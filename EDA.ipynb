{
  "nbformat": 4,
  "nbformat_minor": 0,
  "metadata": {
    "colab": {
      "name": "EDA.ipynb",
      "provenance": [],
      "collapsed_sections": [],
      "machine_shape": "hm",
      "toc_visible": true,
      "include_colab_link": true
    },
    "kernelspec": {
      "display_name": "Python 3",
      "name": "python3"
    },
    "language_info": {
      "name": "python"
    },
    "accelerator": "TPU"
  },
  "cells": [
    {
      "cell_type": "markdown",
      "metadata": {
        "id": "view-in-github",
        "colab_type": "text"
      },
      "source": [
        "<a href=\"https://colab.research.google.com/github/parkmina365/Semiconductor-defect-inspection/blob/main/EDA.ipynb\" target=\"_parent\"><img src=\"https://colab.research.google.com/assets/colab-badge.svg\" alt=\"Open In Colab\"/></a>"
      ]
    },
    {
      "cell_type": "markdown",
      "metadata": {
        "id": "Z5SX4IvJt88B"
      },
      "source": [
        "\n",
        "\n",
        "\n",
        "# 사진 읽기"
      ]
    },
    {
      "cell_type": "code",
      "metadata": {
        "colab": {
          "base_uri": "https://localhost:8080/"
        },
        "id": "rzUyppOIFyLH",
        "outputId": "08e225ae-666f-4058-e686-acd5ba767165"
      },
      "source": [
        "from google.colab import drive\n",
        "drive.mount('/content/drive')"
      ],
      "execution_count": 1,
      "outputs": [
        {
          "output_type": "stream",
          "name": "stdout",
          "text": [
            "Mounted at /content/drive\n"
          ]
        }
      ]
    },
    {
      "cell_type": "code",
      "metadata": {
        "colab": {
          "base_uri": "https://localhost:8080/"
        },
        "id": "53v7--4lQ2bp",
        "outputId": "a0397523-feae-4dda-f617-0018fcaffc45"
      },
      "source": [
        "%cd /content/drive/MyDrive/semiconductor/vision_data"
      ],
      "execution_count": null,
      "outputs": [
        {
          "name": "stdout",
          "output_type": "stream",
          "text": [
            "/content/drive/MyDrive/semiconductor/vision_data\n"
          ]
        }
      ]
    },
    {
      "cell_type": "code",
      "metadata": {
        "id": "V6i_k-ieRyKg"
      },
      "source": [
        "import cv2\n",
        "import matplotlib.pyplot as plt\n",
        "plt.style.use('seaborn-white')"
      ],
      "execution_count": null,
      "outputs": []
    },
    {
      "cell_type": "code",
      "metadata": {
        "id": "JnT0M4yzRHGj"
      },
      "source": [
        "img1 = cv2.imread('pattern_1/pattern_1-1-1-01-D.jpg')\n",
        "img2 = cv2.imread('pattern_1/pattern_1-1-2-01-D.jpg')\n",
        "img3 = cv2.imread('pattern_1/pattern_1-1-3-01-D.jpg')\n",
        "img4 = cv2.imread('pattern_1/pattern_1-1-4-01-D.jpg')\n",
        "img5 = cv2.imread('pattern_1/pattern_1-1-5-01-D.jpg')\n",
        "img6 = cv2.imread('pattern_1/pattern_1-1-6-01-D.jpg')\n",
        "img7 = cv2.imread('pattern_1/pattern_1-1-7-01-D.jpg')\n",
        "img8 = cv2.imread('pattern_1/pattern_1-1-8-01-D.jpg')\n",
        "img9 = cv2.imread('pattern_1/pattern_1-1-9-01-D.jpg')\n",
        "\n",
        "plt.figure(figsize=(15,15))\n",
        "plt.subplot(331), plt.imshow(cv2.cvtColor(img1, cv2.COLOR_BGR2RGB))\n",
        "plt.subplot(332), plt.imshow(cv2.cvtColor(img2, cv2.COLOR_BGR2RGB))\n",
        "plt.subplot(333), plt.imshow(cv2.cvtColor(img3, cv2.COLOR_BGR2RGB))\n",
        "plt.subplot(334), plt.imshow(cv2.cvtColor(img4, cv2.COLOR_BGR2RGB))\n",
        "plt.subplot(335), plt.imshow(cv2.cvtColor(img5, cv2.COLOR_BGR2RGB))\n",
        "plt.subplot(336), plt.imshow(cv2.cvtColor(img6, cv2.COLOR_BGR2RGB))\n",
        "plt.subplot(337), plt.imshow(cv2.cvtColor(img7, cv2.COLOR_BGR2RGB))\n",
        "plt.subplot(338), plt.imshow(cv2.cvtColor(img8, cv2.COLOR_BGR2RGB))\n",
        "plt.subplot(339), plt.imshow(cv2.cvtColor(img9, cv2.COLOR_BGR2RGB))\n",
        "plt.show()"
      ],
      "execution_count": null,
      "outputs": []
    },
    {
      "cell_type": "code",
      "metadata": {
        "id": "hoO9klcaTNyO"
      },
      "source": [
        "img1 = cv2.imread('pattern_2/pattern_2-1-1-01-D.jpg')\n",
        "img2 = cv2.imread('pattern_2/pattern_2-1-2-02-D.jpg')\n",
        "img3 = cv2.imread('pattern_2/pattern_2-1-3-01-D.jpg')\n",
        "img4 = cv2.imread('pattern_2/pattern_2-1-4-01-D.jpg')\n",
        "img5 = cv2.imread('pattern_2/pattern_2-1-5-01-D.jpg')\n",
        "img6 = cv2.imread('pattern_2/pattern_2-1-6-01-D.jpg')\n",
        "img7 = cv2.imread('pattern_2/pattern_2-1-7-01-D.jpg')\n",
        "img8 = cv2.imread('pattern_2/pattern_2-1-8-01-D.jpg')\n",
        "img9 = cv2.imread('pattern_2/pattern_2-1-9-01-D.jpg')\n",
        "\n",
        "plt.figure(figsize=(15,15))\n",
        "plt.subplot(331), plt.imshow(cv2.cvtColor(img1, cv2.COLOR_BGR2RGB))\n",
        "plt.subplot(332), plt.imshow(cv2.cvtColor(img2, cv2.COLOR_BGR2RGB))\n",
        "plt.subplot(333), plt.imshow(cv2.cvtColor(img3, cv2.COLOR_BGR2RGB))\n",
        "plt.subplot(334), plt.imshow(cv2.cvtColor(img4, cv2.COLOR_BGR2RGB))\n",
        "plt.subplot(335), plt.imshow(cv2.cvtColor(img5, cv2.COLOR_BGR2RGB))\n",
        "plt.subplot(336), plt.imshow(cv2.cvtColor(img6, cv2.COLOR_BGR2RGB))\n",
        "plt.subplot(337), plt.imshow(cv2.cvtColor(img7, cv2.COLOR_BGR2RGB))\n",
        "plt.subplot(338), plt.imshow(cv2.cvtColor(img8, cv2.COLOR_BGR2RGB))\n",
        "plt.subplot(339), plt.imshow(cv2.cvtColor(img9, cv2.COLOR_BGR2RGB))\n",
        "plt.show()"
      ],
      "execution_count": 50,
      "outputs": []
    },
    {
      "cell_type": "markdown",
      "metadata": {
        "id": "YVpOibmLuBJV"
      },
      "source": [
        "# json 파일 읽기"
      ]
    },
    {
      "cell_type": "code",
      "metadata": {
        "colab": {
          "base_uri": "https://localhost:8080/"
        },
        "id": "KX9KVHN_lpwC",
        "outputId": "30918803-2eda-45fc-8607-0cf456092097"
      },
      "source": [
        "# json 파일 읽기 및 구조 파악\n",
        "\n",
        "import json\n",
        "with open('pattern_1/pattern_1.json') as data_file:\n",
        "  pattern_1_json = json.load(data_file)\n",
        "with open('pattern_2/pattern_2.json') as data_file:\n",
        "  pattern_2_json = json.load(data_file)\n",
        "\n",
        "print(pattern_1_json.keys())\n",
        "print(pattern_1_json['images'][50].keys())\n",
        "print(pattern_1_json['images'][50]['labels'][0].keys())"
      ],
      "execution_count": 19,
      "outputs": [
        {
          "output_type": "stream",
          "name": "stdout",
          "text": [
            "dict_keys(['project_name', 'create_date', 'export_format_version', 'export_date', 'label_classes', 'images', 'attributes'])\n",
            "dict_keys(['image_id', 'width', 'height', 'image_name', 'image_mode', 'dataset_name', 'image_status', 'labels', 'tags'])\n",
            "dict_keys(['id', 'class_name', 'bbox', 'polygon', 'mask', 'z_index', 'attributes'])\n"
          ]
        }
      ]
    },
    {
      "cell_type": "code",
      "metadata": {
        "colab": {
          "base_uri": "https://localhost:8080/"
        },
        "id": "ExI86qn5icTW",
        "outputId": "7d7972f8-64b4-44a2-c74e-407c757bb1aa"
      },
      "source": [
        "# 패턴 별 총 이미지 개수\n",
        "\n",
        "print(len(pattern_1_json['images']))\n",
        "print(len(pattern_2_json['images']))\n",
        "\n",
        "# print(pattern_1_json['images'][i]['labels'])\n",
        "# print(pattern_1_json['images'][50].keys())"
      ],
      "execution_count": 23,
      "outputs": [
        {
          "output_type": "stream",
          "name": "stdout",
          "text": [
            "136\n",
            "201\n"
          ]
        }
      ]
    },
    {
      "cell_type": "code",
      "metadata": {
        "id": "cu7RLPRqVFqF",
        "colab": {
          "base_uri": "https://localhost:8080/"
        },
        "outputId": "aa548a1e-c59a-4c4b-e97e-133702d8f63e"
      },
      "source": [
        "# json 파일 정보로 DataFrame 만들기\n",
        "\n",
        "import pandas as pd\n",
        "\n",
        "image_name = []\n",
        "height = []\n",
        "width = []\n",
        "labels = []\n",
        "label_nums = []\n",
        "\n",
        "for i in range(len(pattern_1_json['images'])):\n",
        "  image_name.append(pattern_1_json['images'][i]['image_name'])\n",
        "  height.append(pattern_1_json['images'][i]['height'])\n",
        "  width.append(pattern_1_json['images'][i]['width'])\n",
        "  labels.append(pattern_1_json['images'][i]['labels'])\n",
        "  label_nums.append(len(pattern_1_json['images'][i]['labels']))\n",
        "\n",
        "image_name = []\n",
        "height = []\n",
        "width = []\n",
        "labels = []\n",
        "label_nums = []\n",
        "\n",
        "for i in range(len(pattern_2_json['images'])):\n",
        "  image_name.append(pattern_2_json['images'][i]['image_name'])\n",
        "  height.append(pattern_2_json['images'][i]['height'])\n",
        "  width.append(pattern_2_json['images'][i]['width'])\n",
        "  labels.append(pattern_2_json['images'][i]['labels'])\n",
        "  label_nums.append(len(pattern_2_json['images'][i]['labels']))\n",
        "  \n",
        "df_json_1 =  pd.DataFrame({'image_name':image_name, 'height':height, 'width':width,\\\n",
        "                           'labels':labels, 'label_nums':label_nums})\n",
        "df_json_2 =  pd.DataFrame({'image_name':image_name, 'height':height, 'width':width,\\\n",
        "                           'labels':labels, 'label_nums':label_nums})\n",
        "print(df_json_1.tail())\n",
        "print(df_json_2.tail())"
      ],
      "execution_count": 43,
      "outputs": [
        {
          "output_type": "stream",
          "name": "stdout",
          "text": [
            "                 image_name  height  width  \\\n",
            "196  pattern_2-1-3-17-D.jpg    1200   1600   \n",
            "197   pattern_2-1-9-3-D.jpg    1109   1110   \n",
            "198     pattern_2-1-7-2.jpg    1199   1200   \n",
            "199   pattern_2-1-3-3-D.jpg    1199   1200   \n",
            "200  pattern_2-1-1-41-D.jpg    1200   1200   \n",
            "\n",
            "                                                labels  label_nums  \n",
            "196  [{'id': '01f24b59-e8ed-4545-a307-8aeb7d218a55'...           8  \n",
            "197  [{'id': 'b8bc396d-33e9-492b-819c-4ee4ad32af72'...           2  \n",
            "198  [{'id': '22fb9e85-7489-4e24-8751-543d17317379'...           2  \n",
            "199  [{'id': '0eddb269-bd93-4fc4-abaa-42953840b7cc'...           4  \n",
            "200  [{'id': '20e19d19-1776-46d2-802b-97ca99cf0ee1'...           1  \n",
            "                 image_name  height  width  \\\n",
            "196  pattern_2-1-3-17-D.jpg    1200   1600   \n",
            "197   pattern_2-1-9-3-D.jpg    1109   1110   \n",
            "198     pattern_2-1-7-2.jpg    1199   1200   \n",
            "199   pattern_2-1-3-3-D.jpg    1199   1200   \n",
            "200  pattern_2-1-1-41-D.jpg    1200   1200   \n",
            "\n",
            "                                                labels  label_nums  \n",
            "196  [{'id': '01f24b59-e8ed-4545-a307-8aeb7d218a55'...           8  \n",
            "197  [{'id': 'b8bc396d-33e9-492b-819c-4ee4ad32af72'...           2  \n",
            "198  [{'id': '22fb9e85-7489-4e24-8751-543d17317379'...           2  \n",
            "199  [{'id': '0eddb269-bd93-4fc4-abaa-42953840b7cc'...           4  \n",
            "200  [{'id': '20e19d19-1776-46d2-802b-97ca99cf0ee1'...           1  \n"
          ]
        }
      ]
    },
    {
      "cell_type": "code",
      "metadata": {
        "id": "I1Q0ScM0mDxX",
        "colab": {
          "base_uri": "https://localhost:8080/"
        },
        "outputId": "1fab188d-7a23-45a7-c0bd-34feb8687185"
      },
      "source": [
        "# DataFrame의 image_name 변경 후 정렬\n",
        "# 결함 여부('D') 추가\n",
        "\n",
        "def convert(x):\n",
        "  if x < 10:\n",
        "    x = '0'+str(x)\n",
        "    return x\n",
        "  else:\n",
        "    return str(x)\n",
        "\n",
        "def convert2(x):\n",
        "  if x == True:\n",
        "    y = '-D.jpg'\n",
        "    return y\n",
        "  else:\n",
        "    y = '.jpg'\n",
        "    return y\n",
        "  \n",
        "df_json_1['D'] = df_json_1['image_name'].str.contains('D')\n",
        "df_json_2['D'] = df_json_2['image_name'].str.contains('D')\n",
        "\n",
        "df_json_1['image_name'] = df_json_1['image_name'].str[:14]+ df_json_1['image_name'].apply(lambda x:x.split('-')[3]).apply(lambda x:x.split('.')[0]).astype(int).apply(convert)\n",
        "df_json_2['image_name'] = df_json_2['image_name'].str[:14]+ df_json_2['image_name'].apply(lambda x:x.split('-')[3]).apply(lambda x:x.split('.')[0]).astype(int).apply(convert)\n",
        "\n",
        "df_json_1['image_name'] = df_json_1['image_name'] + df_json_1['D'].apply(lambda x:convert2(x))\n",
        "df_json_2['image_name'] = df_json_2['image_name'] + df_json_2['D'].apply(lambda x:convert2(x))\n",
        "\n",
        "df_json_1 = df_json_1.sort_values(by='image_name').reset_index(drop=True)\n",
        "df_json_2 = df_json_2.sort_values(by='image_name').reset_index(drop=True)\n",
        "\n",
        "print(df_json_1.tail())"
      ],
      "execution_count": 48,
      "outputs": [
        {
          "output_type": "stream",
          "name": "stdout",
          "text": [
            "                 image_name  height  width  \\\n",
            "196  pattern_2-1-9-04-D.jpg    1199   1200   \n",
            "197  pattern_2-1-9-05-D.jpg    1199   1200   \n",
            "198  pattern_2-1-9-06-D.jpg    1199   1200   \n",
            "199  pattern_2-1-9-07-D.jpg    1199   1200   \n",
            "200  pattern_2-1-9-08-D.jpg    1199   1200   \n",
            "\n",
            "                                                labels  label_nums     D  \n",
            "196  [{'id': '297109ca-be50-4365-a872-d5acd5df6b43'...           2  True  \n",
            "197  [{'id': '0352d4a8-b6f5-465a-9487-82067dd9146b'...           3  True  \n",
            "198  [{'id': '41597287-4af8-441b-838b-ba03ecb5000e'...           3  True  \n",
            "199  [{'id': '10d85dcd-f193-41fd-ac04-e21dc984f027'...           3  True  \n",
            "200  [{'id': '0beae3e7-b70d-46de-80e2-5d062926f69b'...           4  True  \n"
          ]
        }
      ]
    },
    {
      "cell_type": "markdown",
      "metadata": {
        "id": "tWHVhVo6XNt1"
      },
      "source": [
        "# Bounding Box 좌표 만들기"
      ]
    },
    {
      "cell_type": "code",
      "metadata": {
        "id": "S53I3SqkYQvC"
      },
      "source": [
        "import numpy as np\n",
        "for i in range(df_json_1.label_nums.max()*4):\n",
        "  df_json_1[i] = np.nan\n",
        "\n",
        "for i in range(df_json_1.label_nums.max()):\n",
        "  df_json_1['class_name'+str(i+1)] = np.nan\n",
        "df_json_1_label = df_json_1[df_json_1.label_nums!=0]\n",
        "\n",
        "for i in range(df_json_2.label_nums.max()*4):\n",
        "  df_json_2[i] = np.nan\n",
        "  \n",
        "for i in range(df_json_1.label_nums.max()):\n",
        "  df_json_2['class_name'+str(i+1)] = np.nan\n",
        "df_json_2_label = df_json_2[df_json_2.label_nums!=0]"
      ],
      "execution_count": null,
      "outputs": []
    },
    {
      "cell_type": "code",
      "metadata": {
        "id": "vh6VWweybNTd"
      },
      "source": [
        "df_json_1_label = df_json_1[df_json_1.label_nums!=0]\n",
        "\n",
        "df_json_1_label_1 =  df_json_1_label[df_json_1_label['label_nums']>=1]\n",
        "for i in range(len(df_json_1_label)):\n",
        "  df_json_1_label_1[0].iloc[i] = df_json_1_label['labels'].iloc[i][0]['bbox'][0]\n",
        "  df_json_1_label_1[1].iloc[i] = df_json_1_label['labels'].iloc[i][0]['bbox'][1]\n",
        "  df_json_1_label_1[2].iloc[i] = df_json_1_label['labels'].iloc[i][0]['bbox'][2]\n",
        "  df_json_1_label_1[3].iloc[i] = df_json_1_label['labels'].iloc[i][0]['bbox'][3]\n",
        "  df_json_1_label_1['class_name1'].iloc[i] = df_json_1_label['labels'].iloc[i][0]['class_name']\n",
        "\n",
        "df_json_1_label_2 = df_json_1_label_1[df_json_1_label_1['label_nums']>=2]\n",
        "for i in range(len(df_json_1_label_2)):\n",
        "  df_json_1_label_2[4].iloc[i] = df_json_1_label_2['labels'].iloc[i][1]['bbox'][0]\n",
        "  df_json_1_label_2[5].iloc[i] = df_json_1_label_2['labels'].iloc[i][1]['bbox'][1]\n",
        "  df_json_1_label_2[6].iloc[i] = df_json_1_label_2['labels'].iloc[i][1]['bbox'][2]\n",
        "  df_json_1_label_2[7].iloc[i] = df_json_1_label_2['labels'].iloc[i][1]['bbox'][3]\n",
        "  df_json_1_label_2['class_name2'].iloc[i] = df_json_1_label_2['labels'].iloc[i][1]['class_name']\n",
        "\n",
        "df_json_1_label_3 = df_json_1_label_2[df_json_1_label_2['label_nums']>=3]\n",
        "for i in range(len(df_json_1_label_3)):\n",
        "  df_json_1_label_3[8].iloc[i] = df_json_1_label_3['labels'].iloc[i][2]['bbox'][0]\n",
        "  df_json_1_label_3[9].iloc[i] = df_json_1_label_3['labels'].iloc[i][2]['bbox'][1]\n",
        "  df_json_1_label_3[10].iloc[i] = df_json_1_label_3['labels'].iloc[i][2]['bbox'][2]\n",
        "  df_json_1_label_3[11].iloc[i] = df_json_1_label_3['labels'].iloc[i][2]['bbox'][3]\n",
        "  df_json_1_label_3['class_name3'].iloc[i] = df_json_1_label_3['labels'].iloc[i][2]['class_name']\n",
        "\n",
        "df_json_1_label_4 = df_json_1_label_3[df_json_1_label_3['label_nums']>=4]\n",
        "for i in range(len(df_json_1_label_4)):\n",
        "  df_json_1_label_4[12].iloc[i] = df_json_1_label_4['labels'].iloc[i][3]['bbox'][0]\n",
        "  df_json_1_label_4[13].iloc[i] = df_json_1_label_4['labels'].iloc[i][3]['bbox'][1]\n",
        "  df_json_1_label_4[14].iloc[i] = df_json_1_label_4['labels'].iloc[i][3]['bbox'][2]\n",
        "  df_json_1_label_4[15].iloc[i] = df_json_1_label_4['labels'].iloc[i][3]['bbox'][3]\n",
        "  df_json_1_label_4['class_name4'].iloc[i] = df_json_1_label_4['labels'].iloc[i][3]['class_name']\n",
        "\n",
        "df_json_1_label_5 = df_json_1_label_4[df_json_1_label_4['label_nums']>=5]\n",
        "for i in range(len(df_json_1_label_5)):\n",
        "  df_json_1_label_5[16].iloc[i] = df_json_1_label_5['labels'].iloc[i][4]['bbox'][0]\n",
        "  df_json_1_label_5[17].iloc[i] = df_json_1_label_5['labels'].iloc[i][4]['bbox'][1]\n",
        "  df_json_1_label_5[18].iloc[i] = df_json_1_label_5['labels'].iloc[i][4]['bbox'][2]\n",
        "  df_json_1_label_5[19].iloc[i] = df_json_1_label_5['labels'].iloc[i][4]['bbox'][3]\n",
        "  df_json_1_label_5['class_name5'].iloc[i] = df_json_1_label_5['labels'].iloc[i][4]['class_name']\n",
        "\n",
        "df_json_1_label_6 = df_json_1_label_5[df_json_1_label_5['label_nums']>=6]\n",
        "for i in range(len(df_json_1_label_6)):\n",
        "  df_json_1_label_6[20].iloc[i] = df_json_1_label_6['labels'].iloc[i][5]['bbox'][0]\n",
        "  df_json_1_label_6[21].iloc[i] = df_json_1_label_6['labels'].iloc[i][5]['bbox'][1]\n",
        "  df_json_1_label_6[22].iloc[i] = df_json_1_label_6['labels'].iloc[i][5]['bbox'][2]\n",
        "  df_json_1_label_6[23].iloc[i] = df_json_1_label_6['labels'].iloc[i][5]['bbox'][3]\n",
        "  df_json_1_label_6['class_name6'].iloc[i] = df_json_1_label_6['labels'].iloc[i][5]['class_name']\n",
        "\n",
        "df_json_1_label_7 = df_json_1_label_6[df_json_1_label_6['label_nums']>=7]\n",
        "for i in range(len(df_json_1_label_7)):\n",
        "  df_json_1_label_7[24].iloc[i] = df_json_1_label_7['labels'].iloc[i][6]['bbox'][0]\n",
        "  df_json_1_label_7[25].iloc[i] = df_json_1_label_7['labels'].iloc[i][6]['bbox'][1]\n",
        "  df_json_1_label_7[26].iloc[i] = df_json_1_label_7['labels'].iloc[i][6]['bbox'][2]\n",
        "  df_json_1_label_7[27].iloc[i] = df_json_1_label_7['labels'].iloc[i][6]['bbox'][3]\n",
        "  df_json_1_label_7['class_name7'].iloc[i] = df_json_1_label_7['labels'].iloc[i][6]['class_name']\n",
        "\n",
        "df_json_1_label_8 = df_json_1_label_7[df_json_1_label_7['label_nums']>=8]\n",
        "for i in range(len(df_json_1_label_8)):\n",
        "  df_json_1_label_8[28].iloc[i] = df_json_1_label_8['labels'].iloc[i][7]['bbox'][0]\n",
        "  df_json_1_label_8[29].iloc[i] = df_json_1_label_8['labels'].iloc[i][7]['bbox'][1]\n",
        "  df_json_1_label_8[30].iloc[i] = df_json_1_label_8['labels'].iloc[i][7]['bbox'][2]\n",
        "  df_json_1_label_8[31].iloc[i] = df_json_1_label_8['labels'].iloc[i][7]['bbox'][3]\n",
        "  df_json_1_label_8['class_name8'].iloc[i] = df_json_1_label_8['labels'].iloc[i][7]['class_name']"
      ],
      "execution_count": null,
      "outputs": []
    },
    {
      "cell_type": "code",
      "metadata": {
        "id": "ESJgjhYduc8M"
      },
      "source": [
        "df_json_2_label = df_json_2[df_json_2.label_nums!=0]\n",
        "\n",
        "df_json_2_label_1 =  df_json_2_label[df_json_2_label['label_nums']>=1]\n",
        "for i in range(len(df_json_2_label)):\n",
        "  df_json_2_label_1[0].iloc[i] = df_json_2_label['labels'].iloc[i][0]['bbox'][0]\n",
        "  df_json_2_label_1[1].iloc[i] = df_json_2_label['labels'].iloc[i][0]['bbox'][1]\n",
        "  df_json_2_label_1[2].iloc[i] = df_json_2_label['labels'].iloc[i][0]['bbox'][2]\n",
        "  df_json_2_label_1[3].iloc[i] = df_json_2_label['labels'].iloc[i][0]['bbox'][3]\n",
        "  df_json_2_label_1['class_name1'].iloc[i] = df_json_2_label['labels'].iloc[i][0]['class_name']\n",
        "\n",
        "df_json_2_label_2 = df_json_2_label_1[df_json_2_label_1['label_nums']>=2]\n",
        "for i in range(len(df_json_2_label_2)):\n",
        "  df_json_2_label_2[4].iloc[i] = df_json_2_label_2['labels'].iloc[i][1]['bbox'][0]\n",
        "  df_json_2_label_2[5].iloc[i] = df_json_2_label_2['labels'].iloc[i][1]['bbox'][1]\n",
        "  df_json_2_label_2[6].iloc[i] = df_json_2_label_2['labels'].iloc[i][1]['bbox'][2]\n",
        "  df_json_2_label_2[7].iloc[i] = df_json_2_label_2['labels'].iloc[i][1]['bbox'][3]\n",
        "  df_json_2_label_2['class_name2'].iloc[i] = df_json_2_label_2['labels'].iloc[i][1]['class_name']\n",
        "\n",
        "df_json_2_label_3 = df_json_2_label_2[df_json_2_label_2['label_nums']>=3]\n",
        "for i in range(len(df_json_2_label_3)):\n",
        "  df_json_2_label_3[8].iloc[i] = df_json_2_label_3['labels'].iloc[i][2]['bbox'][0]\n",
        "  df_json_2_label_3[9].iloc[i] = df_json_2_label_3['labels'].iloc[i][2]['bbox'][1]\n",
        "  df_json_2_label_3[10].iloc[i] = df_json_2_label_3['labels'].iloc[i][2]['bbox'][2]\n",
        "  df_json_2_label_3[11].iloc[i] = df_json_2_label_3['labels'].iloc[i][2]['bbox'][3]\n",
        "  df_json_2_label_3['class_name3'].iloc[i] = df_json_2_label_3['labels'].iloc[i][2]['class_name']\n",
        "\n",
        "df_json_2_label_4 = df_json_2_label_3[df_json_2_label_3['label_nums']>=4]\n",
        "for i in range(len(df_json_2_label_4)):\n",
        "  df_json_2_label_4[12].iloc[i] = df_json_2_label_4['labels'].iloc[i][3]['bbox'][0]\n",
        "  df_json_2_label_4[13].iloc[i] = df_json_2_label_4['labels'].iloc[i][3]['bbox'][1]\n",
        "  df_json_2_label_4[14].iloc[i] = df_json_2_label_4['labels'].iloc[i][3]['bbox'][2]\n",
        "  df_json_2_label_4[15].iloc[i] = df_json_2_label_4['labels'].iloc[i][3]['bbox'][3]\n",
        "  df_json_2_label_4['class_name4'].iloc[i] = df_json_2_label_4['labels'].iloc[i][3]['class_name']\n",
        "\n",
        "df_json_2_label_5 = df_json_2_label_4[df_json_2_label_4['label_nums']>=5]\n",
        "for i in range(len(df_json_2_label_5)):\n",
        "  df_json_2_label_5[16].iloc[i] = df_json_2_label_5['labels'].iloc[i][4]['bbox'][0]\n",
        "  df_json_2_label_5[17].iloc[i] = df_json_2_label_5['labels'].iloc[i][4]['bbox'][1]\n",
        "  df_json_2_label_5[18].iloc[i] = df_json_2_label_5['labels'].iloc[i][4]['bbox'][2]\n",
        "  df_json_2_label_5[19].iloc[i] = df_json_2_label_5['labels'].iloc[i][4]['bbox'][3]\n",
        "  df_json_2_label_5['class_name5'].iloc[i] = df_json_2_label_5['labels'].iloc[i][4]['class_name']\n",
        "\n",
        "df_json_2_label_6 = df_json_2_label_5[df_json_2_label_5['label_nums']>=6]\n",
        "for i in range(len(df_json_2_label_6)):\n",
        "  df_json_2_label_6[20].iloc[i] = df_json_2_label_6['labels'].iloc[i][5]['bbox'][0]\n",
        "  df_json_2_label_6[21].iloc[i] = df_json_2_label_6['labels'].iloc[i][5]['bbox'][1]\n",
        "  df_json_2_label_6[22].iloc[i] = df_json_2_label_6['labels'].iloc[i][5]['bbox'][2]\n",
        "  df_json_2_label_6[23].iloc[i] = df_json_2_label_6['labels'].iloc[i][5]['bbox'][3]\n",
        "  df_json_2_label_6['class_name6'].iloc[i] = df_json_2_label_6['labels'].iloc[i][5]['class_name']\n",
        "\n",
        "\n",
        "df_json_2_label_7 = df_json_2_label_6[df_json_2_label_6['label_nums']>=7]\n",
        "for i in range(len(df_json_2_label_7)):\n",
        "  df_json_2_label_7[24].iloc[i] = df_json_2_label_7['labels'].iloc[i][6]['bbox'][0]\n",
        "  df_json_2_label_7[25].iloc[i] = df_json_2_label_7['labels'].iloc[i][6]['bbox'][1]\n",
        "  df_json_2_label_7[26].iloc[i] = df_json_2_label_7['labels'].iloc[i][6]['bbox'][2]\n",
        "  df_json_2_label_7[27].iloc[i] = df_json_2_label_7['labels'].iloc[i][6]['bbox'][3]\n",
        "  df_json_2_label_7['class_name7'].iloc[i] = df_json_2_label_7['labels'].iloc[i][6]['class_name']\n",
        "\n",
        "df_json_2_label_8 = df_json_2_label_7[df_json_2_label_7['label_nums']>=8]\n",
        "for i in range(len(df_json_2_label_8)):\n",
        "  df_json_2_label_8[28].iloc[i] = df_json_2_label_8['labels'].iloc[i][7]['bbox'][0]\n",
        "  df_json_2_label_8[29].iloc[i] = df_json_2_label_8['labels'].iloc[i][7]['bbox'][1]\n",
        "  df_json_2_label_8[30].iloc[i] = df_json_2_label_8['labels'].iloc[i][7]['bbox'][2]\n",
        "  df_json_2_label_8[31].iloc[i] = df_json_2_label_8['labels'].iloc[i][7]['bbox'][3]\n",
        "  df_json_2_label_8['class_name8'].iloc[i] = df_json_2_label_8['labels'].iloc[i][7]['class_name']"
      ],
      "execution_count": null,
      "outputs": []
    },
    {
      "cell_type": "code",
      "metadata": {
        "id": "5beBnEsRo-Gv"
      },
      "source": [
        "df_json_1_label_1 =  df_json_1_label_1[df_json_1_label_1['label_nums']==1]\n",
        "df_json_1_label_2 =  df_json_1_label_2[df_json_1_label_2['label_nums']==2]\n",
        "df_json_1_label_3 =  df_json_1_label_3[df_json_1_label_3['label_nums']==3]\n",
        "df_json_1_label_4 =  df_json_1_label_4[df_json_1_label_4['label_nums']==4]\n",
        "df_json_1_label_5 =  df_json_1_label_5[df_json_1_label_5['label_nums']==5]\n",
        "df_json_1_label_6 =  df_json_1_label_6[df_json_1_label_6['label_nums']==6]\n",
        "df_json_1_label_7 =  df_json_1_label_7[df_json_1_label_7['label_nums']==7]\n",
        "df_json_1_label_8 =  df_json_1_label_8[df_json_1_label_8['label_nums']==8]"
      ],
      "execution_count": null,
      "outputs": []
    },
    {
      "cell_type": "code",
      "metadata": {
        "id": "pqGiIY3fpDBu"
      },
      "source": [
        "df_json_2_label_1 =  df_json_2_label_1[df_json_2_label_1['label_nums']==1]\n",
        "df_json_2_label_2 =  df_json_2_label_2[df_json_2_label_2['label_nums']==2]\n",
        "df_json_2_label_3 =  df_json_2_label_3[df_json_2_label_3['label_nums']==3]\n",
        "df_json_2_label_4 =  df_json_2_label_4[df_json_2_label_4['label_nums']==4]\n",
        "df_json_2_label_5 =  df_json_2_label_5[df_json_2_label_5['label_nums']==5]\n",
        "df_json_2_label_6 =  df_json_2_label_6[df_json_2_label_6['label_nums']==6]\n",
        "df_json_2_label_7 =  df_json_2_label_7[df_json_2_label_7['label_nums']==7]\n",
        "df_json_2_label_8 =  df_json_2_label_8[df_json_2_label_8['label_nums']==8]"
      ],
      "execution_count": null,
      "outputs": []
    },
    {
      "cell_type": "code",
      "metadata": {
        "id": "Kp0AJHzDlN0c"
      },
      "source": [
        "df_json_1 = pd.concat([df_json_1_label_1, df_json_1_label_2,df_json_1_label_3, df_json_1_label_4,\n",
        "                       df_json_1_label_5, df_json_1_label_6, df_json_1_label_7, df_json_1_label_8])\n",
        "df_json_2 = pd.concat([df_json_2_label_1, df_json_2_label_2,df_json_2_label_3, df_json_2_label_4,\n",
        "                       df_json_2_label_5, df_json_2_label_6, df_json_2_label_7, df_json_2_label_8])"
      ],
      "execution_count": null,
      "outputs": []
    },
    {
      "cell_type": "code",
      "metadata": {
        "id": "s_I7KEMr5Mhf"
      },
      "source": [
        "df_json_1.to_csv('/content/drive/MyDrive/semiconductor/vision_data/pattern_1/pattern_1_xy_class.csv', index=False)\n",
        "df_json_2.to_csv('/content/drive/MyDrive/semiconductor/vision_data/pattern_2/pattern_2_xy_class.csv', index=False)"
      ],
      "execution_count": null,
      "outputs": []
    },
    {
      "cell_type": "markdown",
      "metadata": {
        "id": "AXyrr9-TYgXX"
      },
      "source": [
        "# Bounding Box 그리기\n"
      ]
    },
    {
      "cell_type": "markdown",
      "metadata": {
        "id": "7wWw37Lh8LIj"
      },
      "source": [
        "## 패턴1"
      ]
    },
    {
      "cell_type": "code",
      "metadata": {
        "colab": {
          "base_uri": "https://localhost:8080/"
        },
        "id": "Ozy1Ir4Pn3FJ",
        "outputId": "397da9bf-3c45-45a1-8118-2681a4adeb74"
      },
      "source": [
        "%cd /content/drive/MyDrive/semiconductor/vision_data/pattern_1"
      ],
      "execution_count": null,
      "outputs": [
        {
          "output_type": "stream",
          "name": "stdout",
          "text": [
            "/content/drive/MyDrive/semiconductor/vision_data/pattern_1\n"
          ]
        }
      ]
    },
    {
      "cell_type": "code",
      "metadata": {
        "id": "6XGCAD2Ro9WK"
      },
      "source": [
        "# df_json_1_label_1\n",
        "\n",
        "for i in range(len(df_json_1_label_1)):\n",
        "  img = cv2.imread(df_json_1_label_1['image_name'].iloc[i])\n",
        "  img_draw = cv2.imread(df_json_1_label_1['image_name'].iloc[i])\n",
        "  start1 = (df_json_1_label_1[0].iloc[i].astype(int), df_json_1_label_1[1].iloc[i].astype(int))\n",
        "  start1_1 = (df_json_1_label_1[0].iloc[i].astype(int), df_json_1_label_1[1].iloc[i].astype(int)-10)\n",
        "\n",
        "  end1 = (df_json_1_label_1[2].iloc[i].astype(int), df_json_1_label_1[3].iloc[i].astype(int))\n",
        "  img_draw = cv2.rectangle(img_draw, start1, end1, (0,0,255), 2)\n",
        "  img_draw = cv2.putText(img_draw, df_json_1_label_1['class_name1'].iloc[i][-1:], start1_1, cv2.FONT_ITALIC, 1, (0,0,255))\n",
        "  plt.figure(figsize=(20,20))\n",
        "\n",
        "  plt.subplot(121), plt.imshow(cv2.cvtColor(img, cv2.COLOR_BGR2RGB)), plt.title('Original')\n",
        "  plt.subplot(122), plt.imshow(cv2.cvtColor(img_draw, cv2.COLOR_BGR2RGB)), plt.title(df_json_1_label_1['image_name'].iloc[i])\n",
        "  plt.show()"
      ],
      "execution_count": 52,
      "outputs": []
    },
    {
      "cell_type": "code",
      "metadata": {
        "id": "q8yn9omfpd9Z"
      },
      "source": [
        "# df_json_1_label_2\n",
        "\n",
        "for i in range(len(df_json_1_label_2)):\n",
        "  img = cv2.imread(df_json_1_label_2['image_name'].iloc[i])\n",
        "  img_draw = img.copy()\n",
        "  start1 = (df_json_1_label_2[0].iloc[i].astype(int), df_json_1_label_2[1].iloc[i].astype(int))\n",
        "  start1_1 = (df_json_1_label_2[0].iloc[i].astype(int), df_json_1_label_2[1].iloc[i].astype(int)-10)\n",
        "  end1 = (df_json_1_label_2[2].iloc[i].astype(int), df_json_1_label_2[3].iloc[i].astype(int))\n",
        "  img_draw = cv2.rectangle(img_draw, start1, end1, (0,0,255), 2)\n",
        "  img_draw = cv2.putText(img_draw, df_json_1_label_2['class_name1'].iloc[i][-1:], start1_1, cv2.FONT_ITALIC, 1, (0,0,255))\n",
        "\n",
        "  start2 = (df_json_1_label_2[4].iloc[i].astype(int), df_json_1_label_2[5].iloc[i].astype(int))\n",
        "  start2_1 = (df_json_1_label_2[4].iloc[i].astype(int), df_json_1_label_2[5].iloc[i].astype(int)-10)\n",
        "  end2 = (df_json_1_label_2[6].iloc[i].astype(int), df_json_1_label_2[7].iloc[i].astype(int))\n",
        "  img_draw = cv2.rectangle(img_draw, start2, end2, (0,0,255), 2)\n",
        "  img_draw = cv2.putText(img_draw, df_json_1_label_2['class_name2'].iloc[i][-1:], start2_1, cv2.FONT_ITALIC, 1, (0,0,255))\n",
        "\n",
        "  plt.figure(figsize=(20,20))\n",
        "  plt.subplot(121), plt.imshow(cv2.cvtColor(img, cv2.COLOR_BGR2RGB)), plt.title('Original')\n",
        "  plt.subplot(122), plt.imshow(cv2.cvtColor(img_draw, cv2.COLOR_BGR2RGB)), plt.title(df_json_1_label_2['image_name'].iloc[i])\n",
        "  plt.show()"
      ],
      "execution_count": 53,
      "outputs": []
    },
    {
      "cell_type": "code",
      "metadata": {
        "id": "8WketdWoqJ-R"
      },
      "source": [
        "# df_json_1_label_3\n",
        "\n",
        "for i in range(len(df_json_1_label_3)):\n",
        "  img = cv2.imread(df_json_1_label_3['image_name'].iloc[i])\n",
        "  img_draw = img.copy()\n",
        "  start1 = (df_json_1_label_3[0].iloc[i].astype(int), df_json_1_label_3[1].iloc[i].astype(int))\n",
        "  start1_1 = (df_json_1_label_3[0].iloc[i].astype(int), df_json_1_label_3[1].iloc[i].astype(int)-10)\n",
        "  end1 = (df_json_1_label_3[2].iloc[i].astype(int), df_json_1_label_3[3].iloc[i].astype(int))\n",
        "  img_draw = cv2.rectangle(img_draw, start1, end1, (0,0,255), 2)\n",
        "  img_draw = cv2.putText(img_draw, df_json_1_label_3['class_name1'].iloc[i][-1:], start1_1, cv2.FONT_ITALIC, 1, (0,0,255))\n",
        "\n",
        "  start2 = (df_json_1_label_3[4].iloc[i].astype(int), df_json_1_label_3[5].iloc[i].astype(int))\n",
        "  start2_1 = (df_json_1_label_3[4].iloc[i].astype(int), df_json_1_label_3[5].iloc[i].astype(int)-10)\n",
        "  end2 = (df_json_1_label_3[6].iloc[i].astype(int), df_json_1_label_3[7].iloc[i].astype(int))\n",
        "  img_draw = cv2.rectangle(img_draw, start2, end2, (0,0,255), 2)\n",
        "  img_draw = cv2.putText(img_draw, df_json_1_label_3['class_name2'].iloc[i][-1:], start2_1, cv2.FONT_ITALIC, 1, (0,0,255))\n",
        "\n",
        "  start3 = (df_json_1_label_3[8].iloc[i].astype(int), df_json_1_label_3[9].iloc[i].astype(int))\n",
        "  start3_1 = (df_json_1_label_3[8].iloc[i].astype(int), df_json_1_label_3[9].iloc[i].astype(int)-10)\n",
        "  end3 = (df_json_1_label_3[10].iloc[i].astype(int), df_json_1_label_3[11].iloc[i].astype(int))\n",
        "  img_draw = cv2.rectangle(img_draw, start3, end3, (0,0,255), 2)\n",
        "  img_draw = cv2.putText(img_draw, df_json_1_label_3['class_name3'].iloc[i][-1:], start3_1, cv2.FONT_ITALIC, 1, (0,0,255))\n",
        "\n",
        "  plt.figure(figsize=(20,20))\n",
        "  plt.subplot(121), plt.imshow(cv2.cvtColor(img, cv2.COLOR_BGR2RGB)), plt.title('Original')\n",
        "  plt.subplot(122), plt.imshow(cv2.cvtColor(img_draw, cv2.COLOR_BGR2RGB)), plt.title(df_json_1_label_3['image_name'].iloc[i])\n",
        "  plt.show()"
      ],
      "execution_count": 55,
      "outputs": []
    },
    {
      "cell_type": "code",
      "metadata": {
        "id": "lcOTaFihqgi9"
      },
      "source": [
        "# df_json_1_label_4\n",
        "\n",
        "for i in range(len(df_json_1_label_4)):\n",
        "  img = cv2.imread(df_json_1_label_4['image_name'].iloc[i])\n",
        "  img_draw = img.copy()\n",
        "  start1 = (df_json_1_label_4[0].iloc[i].astype(int), df_json_1_label_4[1].iloc[i].astype(int))\n",
        "  start1_1 = (df_json_1_label_4[0].iloc[i].astype(int), df_json_1_label_4[1].iloc[i].astype(int)-10)\n",
        "  end1 = (df_json_1_label_4[2].iloc[i].astype(int), df_json_1_label_4[3].iloc[i].astype(int))\n",
        "  img_draw = cv2.rectangle(img_draw, start1, end1, (0,0,255), 2)\n",
        "  img_draw = cv2.putText(img_draw, df_json_1_label_4['class_name1'].iloc[i][-1:], start1_1, cv2.FONT_ITALIC, 1, (0,0,255))\n",
        "\n",
        "  start2 = (df_json_1_label_4[4].iloc[i].astype(int), df_json_1_label_4[5].iloc[i].astype(int))\n",
        "  start2_1 = (df_json_1_label_4[4].iloc[i].astype(int), df_json_1_label_4[5].iloc[i].astype(int)-10)\n",
        "  end2 = (df_json_1_label_4[6].iloc[i].astype(int), df_json_1_label_4[7].iloc[i].astype(int))\n",
        "  img_draw = cv2.rectangle(img_draw, start2, end2, (0,0,255), 2)\n",
        "  img_draw = cv2.putText(img_draw, df_json_1_label_4['class_name2'].iloc[i][-1:], start2_1, cv2.FONT_ITALIC, 1, (0,0,255))\n",
        "\n",
        "  start3 = (df_json_1_label_4[8].iloc[i].astype(int), df_json_1_label_4[9].iloc[i].astype(int))\n",
        "  start3_1 = (df_json_1_label_4[8].iloc[i].astype(int), df_json_1_label_4[9].iloc[i].astype(int)-10)\n",
        "  end3 = (df_json_1_label_4[10].iloc[i].astype(int), df_json_1_label_4[11].iloc[i].astype(int))\n",
        "  img_draw = cv2.rectangle(img_draw, start3, end3, (0,0,255), 2)\n",
        "  img_draw = cv2.putText(img_draw, df_json_1_label_4['class_name3'].iloc[i][-1:], start3_1, cv2.FONT_ITALIC, 1, (0,0,255))\n",
        "\n",
        "  start4 = (df_json_1_label_4[12].iloc[i].astype(int), df_json_1_label_4[13].iloc[i].astype(int))\n",
        "  start4_1 = (df_json_1_label_4[12].iloc[i].astype(int), df_json_1_label_4[13].iloc[i].astype(int)-10)\n",
        "  end4 = (df_json_1_label_4[14].iloc[i].astype(int), df_json_1_label_4[15].iloc[i].astype(int))\n",
        "  img_draw = cv2.rectangle(img_draw, start4, end4, (0,0,255), 2)\n",
        "  img_draw = cv2.putText(img_draw, df_json_1_label_4['class_name4'].iloc[i][-1:], start4_1, cv2.FONT_ITALIC, 1, (0,0,255))\n",
        "\n",
        "  plt.figure(figsize=(20,20))\n",
        "  plt.subplot(121), plt.imshow(cv2.cvtColor(img, cv2.COLOR_BGR2RGB)), plt.title('Original')\n",
        "  plt.subplot(122), plt.imshow(cv2.cvtColor(img_draw, cv2.COLOR_BGR2RGB)), plt.title(df_json_1_label_4['image_name'].iloc[i])\n",
        "  plt.show()"
      ],
      "execution_count": 57,
      "outputs": []
    },
    {
      "cell_type": "code",
      "metadata": {
        "id": "NnEp6t9Oqfx1"
      },
      "source": [
        "# df_json_1_label_5\n",
        "\n",
        "for i in range(len(df_json_1_label_5)):\n",
        "  img = cv2.imread(df_json_1_label_5['image_name'].iloc[i])\n",
        "  img_draw = img.copy()\n",
        "  start1 = (df_json_1_label_5[0].iloc[i].astype(int), df_json_1_label_5[1].iloc[i].astype(int))\n",
        "  start1_1 = (df_json_1_label_5[0].iloc[i].astype(int), df_json_1_label_5[1].iloc[i].astype(int)-10)\n",
        "  end1 = (df_json_1_label_5[2].iloc[i].astype(int), df_json_1_label_5[3].iloc[i].astype(int))\n",
        "  img_draw = cv2.rectangle(img_draw, start1, end1, (0,0,255), 2)\n",
        "  img_draw = cv2.putText(img_draw, df_json_1_label_5['class_name1'].iloc[i][-1:], start1_1, cv2.FONT_ITALIC, 1, (0,0,255))\n",
        "\n",
        "  start2 = (df_json_1_label_5[4].iloc[i].astype(int), df_json_1_label_5[5].iloc[i].astype(int))\n",
        "  start2_1 = (df_json_1_label_5[4].iloc[i].astype(int), df_json_1_label_5[5].iloc[i].astype(int)-10)\n",
        "  end2 = (df_json_1_label_5[6].iloc[i].astype(int), df_json_1_label_5[7].iloc[i].astype(int))\n",
        "  img_draw = cv2.rectangle(img_draw, start2, end2, (0,0,255), 2)\n",
        "  img_draw = cv2.putText(img_draw, df_json_1_label_5['class_name2'].iloc[i][-1:], start2_1, cv2.FONT_ITALIC, 1, (0,0,255))\n",
        "\n",
        "  start3 = (df_json_1_label_5[8].iloc[i].astype(int), df_json_1_label_5[9].iloc[i].astype(int))\n",
        "  start3_1 = (df_json_1_label_5[8].iloc[i].astype(int), df_json_1_label_5[9].iloc[i].astype(int)-10)\n",
        "  end3 = (df_json_1_label_5[10].iloc[i].astype(int), df_json_1_label_5[11].iloc[i].astype(int))\n",
        "  img_draw = cv2.rectangle(img_draw, start3, end3, (0,0,255), 2)\n",
        "  img_draw = cv2.putText(img_draw, df_json_1_label_5['class_name3'].iloc[i][-1:], start3_1, cv2.FONT_ITALIC, 1, (0,0,255))\n",
        "\n",
        "\n",
        "  start4 = (df_json_1_label_5[12].iloc[i].astype(int), df_json_1_label_5[13].iloc[i].astype(int))\n",
        "  start4_1 = (df_json_1_label_5[12].iloc[i].astype(int), df_json_1_label_5[13].iloc[i].astype(int)-10)\n",
        "  end4 = (df_json_1_label_5[14].iloc[i].astype(int), df_json_1_label_5[15].iloc[i].astype(int))\n",
        "  img_draw = cv2.rectangle(img_draw, start4, end4, (0,0,255), 2)\n",
        "  img_draw = cv2.putText(img_draw, df_json_1_label_5['class_name4'].iloc[i][-1:], start4_1, cv2.FONT_ITALIC, 1, (0,0,255))\n",
        "\n",
        "  start5 = (df_json_1_label_5[16].iloc[i].astype(int), df_json_1_label_5[17].iloc[i].astype(int))\n",
        "  start5_1 = (df_json_1_label_5[16].iloc[i].astype(int), df_json_1_label_5[17].iloc[i].astype(int)-10)\n",
        "  end5 = (df_json_1_label_5[18].iloc[i].astype(int), df_json_1_label_5[19].iloc[i].astype(int))\n",
        "  img_draw = cv2.rectangle(img_draw, start5, end5, (0,0,255), 2)\n",
        "  img_draw = cv2.putText(img_draw, df_json_1_label_5['class_name5'].iloc[i][-1:], start5_1, cv2.FONT_ITALIC, 1, (0,0,255))\n",
        "\n",
        "  plt.figure(figsize=(20,20))\n",
        "  plt.subplot(121), plt.imshow(cv2.cvtColor(img, cv2.COLOR_BGR2RGB)), plt.title('Original')\n",
        "  plt.subplot(122), plt.imshow(cv2.cvtColor(img_draw, cv2.COLOR_BGR2RGB)), plt.title(df_json_1_label_5['image_name'].iloc[i])\n",
        "  plt.show()"
      ],
      "execution_count": 58,
      "outputs": []
    },
    {
      "cell_type": "code",
      "metadata": {
        "id": "qo_n_N6Uqfez"
      },
      "source": [
        "# df_json_1_label_6\n",
        "\n",
        "for i in range(len(df_json_1_label_6)):\n",
        "  img = cv2.imread(df_json_1_label_6['image_name'].iloc[i])\n",
        "  img_draw = img.copy()\n",
        "  start1 = (df_json_1_label_6[0].iloc[i].astype(int), df_json_1_label_6[1].iloc[i].astype(int))\n",
        "  start1_1 = (df_json_1_label_6[0].iloc[i].astype(int), df_json_1_label_6[1].iloc[i].astype(int)-10)\n",
        "  end1 = (df_json_1_label_6[2].iloc[i].astype(int), df_json_1_label_6[3].iloc[i].astype(int))\n",
        "  img_draw = cv2.rectangle(img_draw, start1, end1, (0,0,255), 2)\n",
        "  img_draw = cv2.putText(img_draw, df_json_1_label_6['class_name1'].iloc[i][-1:], start1_1, cv2.FONT_ITALIC, 1, (0,0,255))\n",
        "\n",
        "  start2 = (df_json_1_label_6[4].iloc[i].astype(int), df_json_1_label_6[5].iloc[i].astype(int))\n",
        "  start2_1 = (df_json_1_label_6[4].iloc[i].astype(int), df_json_1_label_6[5].iloc[i].astype(int)-10)\n",
        "  end2 = (df_json_1_label_6[6].iloc[i].astype(int), df_json_1_label_6[7].iloc[i].astype(int))\n",
        "  img_draw = cv2.rectangle(img_draw, start2, end2, (0,0,255), 2)\n",
        "  img_draw = cv2.putText(img_draw, df_json_1_label_6['class_name2'].iloc[i][-1:], start2_1, cv2.FONT_ITALIC, 1, (0,0,255))\n",
        "\n",
        "  start3 = (df_json_1_label_6[8].iloc[i].astype(int), df_json_1_label_6[9].iloc[i].astype(int))\n",
        "  start3_1 = (df_json_1_label_6[8].iloc[i].astype(int), df_json_1_label_6[9].iloc[i].astype(int)-10)\n",
        "  end3 = (df_json_1_label_6[10].iloc[i].astype(int), df_json_1_label_6[11].iloc[i].astype(int))\n",
        "  img_draw = cv2.rectangle(img_draw, start3, end3, (0,0,255), 2)\n",
        "  img_draw = cv2.putText(img_draw, df_json_1_label_6['class_name3'].iloc[i][-1:], start3_1, cv2.FONT_ITALIC, 1, (0,0,255))\n",
        "\n",
        "  start4 = (df_json_1_label_6[12].iloc[i].astype(int), df_json_1_label_6[13].iloc[i].astype(int))\n",
        "  start4_1 = (df_json_1_label_6[12].iloc[i].astype(int), df_json_1_label_6[13].iloc[i].astype(int)-10)\n",
        "  end4 = (df_json_1_label_6[14].iloc[i].astype(int), df_json_1_label_6[15].iloc[i].astype(int))\n",
        "  img_draw = cv2.rectangle(img_draw, start4, end4, (0,0,255), 2)\n",
        "  img_draw = cv2.putText(img_draw, df_json_1_label_6['class_name4'].iloc[i][-1:], start4_1, cv2.FONT_ITALIC, 1, (0,0,255))\n",
        "\n",
        "  start5 = (df_json_1_label_6[16].iloc[i].astype(int), df_json_1_label_6[17].iloc[i].astype(int))\n",
        "  start5_1 = (df_json_1_label_6[16].iloc[i].astype(int), df_json_1_label_6[17].iloc[i].astype(int)-10)\n",
        "  end5 = (df_json_1_label_6[18].iloc[i].astype(int), df_json_1_label_6[19].iloc[i].astype(int))\n",
        "  img_draw = cv2.rectangle(img_draw, start5, end5, (0,0,255), 2)\n",
        "  img_draw = cv2.putText(img_draw, df_json_1_label_6['class_name5'].iloc[i][-1:], start5_1, cv2.FONT_ITALIC, 1, (0,0,255))\n",
        "\n",
        "  start6 = (df_json_1_label_6[20].iloc[i].astype(int), df_json_1_label_6[21].iloc[i].astype(int))\n",
        "  start6_1 = (df_json_1_label_6[20].iloc[i].astype(int), df_json_1_label_6[21].iloc[i].astype(int)-10)\n",
        "  end6 = (df_json_1_label_6[22].iloc[i].astype(int), df_json_1_label_6[23].iloc[i].astype(int))\n",
        "  img_draw = cv2.rectangle(img_draw, start6, end6, (0,0,255), 2)\n",
        "  img_draw = cv2.putText(img_draw, df_json_1_label_6['class_name6'].iloc[i][-1:], start6_1, cv2.FONT_ITALIC, 1, (0,0,255))\n",
        "\n",
        "  plt.figure(figsize=(20,20))\n",
        "  plt.subplot(121), plt.imshow(cv2.cvtColor(img, cv2.COLOR_BGR2RGB)), plt.title('Original')\n",
        "  plt.subplot(122), plt.imshow(cv2.cvtColor(img_draw, cv2.COLOR_BGR2RGB)), plt.title(df_json_1_label_6['image_name'].iloc[i])\n",
        "  plt.show()"
      ],
      "execution_count": 59,
      "outputs": []
    },
    {
      "cell_type": "code",
      "metadata": {
        "id": "C0ShZZdkqd_s"
      },
      "source": [
        "# df_json_1_label_7\n",
        "\n",
        "for i in range(len(df_json_1_label_7)):\n",
        "  img = cv2.imread(df_json_1_label_7['image_name'].iloc[i])\n",
        "  img_draw = img.copy()\n",
        "  start1 = (df_json_1_label_7[0].iloc[i].astype(int), df_json_1_label_7[1].iloc[i].astype(int))\n",
        "  start1_1 = (df_json_1_label_7[0].iloc[i].astype(int), df_json_1_label_7[1].iloc[i].astype(int)-10)\n",
        "  end1 = (df_json_1_label_7[2].iloc[i].astype(int), df_json_1_label_7[3].iloc[i].astype(int))\n",
        "  img_draw = cv2.rectangle(img_draw, start1, end1, (0,0,255), 2)\n",
        "  img_draw = cv2.putText(img_draw, df_json_1_label_7['class_name1'].iloc[i][-1:], start1_1, cv2.FONT_ITALIC, 1, (0,0,255))\n",
        "\n",
        "  start2 = (df_json_1_label_7[4].iloc[i].astype(int), df_json_1_label_7[5].iloc[i].astype(int))\n",
        "  start2_1 = (df_json_1_label_7[4].iloc[i].astype(int), df_json_1_label_7[5].iloc[i].astype(int)-10)\n",
        "  end2 = (df_json_1_label_7[6].iloc[i].astype(int), df_json_1_label_7[7].iloc[i].astype(int))\n",
        "  img_draw = cv2.rectangle(img_draw, start2, end2, (0,0,255), 2)\n",
        "  img_draw = cv2.putText(img_draw, df_json_1_label_7['class_name2'].iloc[i][-1:], start2_1, cv2.FONT_ITALIC, 1, (0,0,255))\n",
        "\n",
        "  start3 = (df_json_1_label_7[8].iloc[i].astype(int), df_json_1_label_7[9].iloc[i].astype(int))\n",
        "  start3_1 = (df_json_1_label_7[8].iloc[i].astype(int), df_json_1_label_7[9].iloc[i].astype(int)-10)\n",
        "  end3 = (df_json_1_label_7[10].iloc[i].astype(int), df_json_1_label_7[11].iloc[i].astype(int))\n",
        "  img_draw = cv2.rectangle(img_draw, start3, end3, (0,0,255), 2)\n",
        "  img_draw = cv2.putText(img_draw, df_json_1_label_7['class_name3'].iloc[i][-1:], start3_1, cv2.FONT_ITALIC, 1, (0,0,255))\n",
        "\n",
        "  start4 = (df_json_1_label_7[12].iloc[i].astype(int), df_json_1_label_7[13].iloc[i].astype(int))\n",
        "  start4_1 = (df_json_1_label_7[12].iloc[i].astype(int), df_json_1_label_7[13].iloc[i].astype(int)-10)\n",
        "  end4 = (df_json_1_label_7[14].iloc[i].astype(int), df_json_1_label_7[15].iloc[i].astype(int))\n",
        "  img_draw = cv2.rectangle(img_draw, start4, end4, (0,0,255), 2)\n",
        "  img_draw = cv2.putText(img_draw, df_json_1_label_7['class_name4'].iloc[i][-1:], start4_1, cv2.FONT_ITALIC, 1, (0,0,255))\n",
        "\n",
        "  start5 = (df_json_1_label_7[16].iloc[i].astype(int), df_json_1_label_7[17].iloc[i].astype(int))\n",
        "  start5_1 = (df_json_1_label_7[16].iloc[i].astype(int), df_json_1_label_7[17].iloc[i].astype(int)-10)\n",
        "  end5 = (df_json_1_label_7[18].iloc[i].astype(int), df_json_1_label_7[19].iloc[i].astype(int))\n",
        "  img_draw = cv2.rectangle(img_draw, start5, end5, (0,0,255), 2)\n",
        "  img_draw = cv2.putText(img_draw, df_json_1_label_7['class_name5'].iloc[i][-1:], start5_1, cv2.FONT_ITALIC, 1, (0,0,255))\n",
        "\n",
        "  start6 = (df_json_1_label_7[20].iloc[i].astype(int), df_json_1_label_7[21].iloc[i].astype(int))\n",
        "  start6_1 = (df_json_1_label_7[20].iloc[i].astype(int), df_json_1_label_7[21].iloc[i].astype(int)-10)\n",
        "  end6 = (df_json_1_label_7[22].iloc[i].astype(int), df_json_1_label_7[23].iloc[i].astype(int))\n",
        "  img_draw = cv2.rectangle(img_draw, start6, end6, (0,0,255), 2)\n",
        "  img_draw = cv2.putText(img_draw, df_json_1_label_7['class_name6'].iloc[i][-1:], start6_1, cv2.FONT_ITALIC, 1, (0,0,255))\n",
        "\n",
        "  start7 = (df_json_1_label_7[24].iloc[i].astype(int), df_json_1_label_7[25].iloc[i].astype(int))\n",
        "  start7_1 = (df_json_1_label_7[24].iloc[i].astype(int), df_json_1_label_7[25].iloc[i].astype(int)-10)\n",
        "  end7 = (df_json_1_label_7[26].iloc[i].astype(int), df_json_1_label_7[27].iloc[i].astype(int))\n",
        "  img_draw = cv2.rectangle(img_draw, start7, end7, (0,0,255), 2)\n",
        "  img_draw = cv2.putText(img_draw, df_json_1_label_7['class_name7'].iloc[i][-1:], start7_1, cv2.FONT_ITALIC, 1, (0,0,255))\n",
        "\n",
        "  plt.figure(figsize=(20,20))\n",
        "  plt.subplot(121), plt.imshow(cv2.cvtColor(img, cv2.COLOR_BGR2RGB)), plt.title('Original')\n",
        "  plt.subplot(122), plt.imshow(cv2.cvtColor(img_draw, cv2.COLOR_BGR2RGB)), plt.title(df_json_1_label_7['image_name'].iloc[i])\n",
        "  plt.show()"
      ],
      "execution_count": 60,
      "outputs": []
    },
    {
      "cell_type": "code",
      "metadata": {
        "id": "8ZdFKNenqdbb"
      },
      "source": [
        "# df_json_1_label_8\n",
        "\n",
        "for i in range(len(df_json_1_label_8)):\n",
        "  img = cv2.imread(df_json_1_label_8['image_name'].iloc[i])\n",
        "  img_draw = img.copy()\n",
        "  start1 = (df_json_1_label_8[0].iloc[i].astype(int), df_json_1_label_8[1].iloc[i].astype(int))\n",
        "  start1_1 = (df_json_1_label_8[0].iloc[i].astype(int), df_json_1_label_8[1].iloc[i].astype(int)-10)\n",
        "  end1 = (df_json_1_label_8[2].iloc[i].astype(int), df_json_1_label_8[3].iloc[i].astype(int))\n",
        "  img_draw = cv2.rectangle(img_draw, start1, end1, (0,0,255), 2)\n",
        "  img_draw = cv2.putText(img_draw, df_json_1_label_8['class_name1'].iloc[i][-1:], start1_1, cv2.FONT_ITALIC, 1, (0,0,255))\n",
        "\n",
        "  start2 = (df_json_1_label_8[4].iloc[i].astype(int), df_json_1_label_8[5].iloc[i].astype(int))\n",
        "  start2_1 = (df_json_1_label_8[4].iloc[i].astype(int), df_json_1_label_8[5].iloc[i].astype(int)-10)\n",
        "  end2 = (df_json_1_label_8[6].iloc[i].astype(int), df_json_1_label_8[7].iloc[i].astype(int))\n",
        "  img_draw = cv2.rectangle(img_draw, start2, end2, (0,0,255), 2)\n",
        "  img_draw = cv2.putText(img_draw, df_json_1_label_8['class_name2'].iloc[i][-1:], start2_1, cv2.FONT_ITALIC, 1, (0,0,255))\n",
        "\n",
        "  start3 = (df_json_1_label_8[8].iloc[i].astype(int), df_json_1_label_8[9].iloc[i].astype(int))\n",
        "  start3_1 = (df_json_1_label_8[8].iloc[i].astype(int), df_json_1_label_8[9].iloc[i].astype(int)-10)\n",
        "  end3 = (df_json_1_label_8[10].iloc[i].astype(int), df_json_1_label_8[11].iloc[i].astype(int))\n",
        "  img_draw = cv2.rectangle(img_draw, start3, end3, (0,0,255), 2)\n",
        "  img_draw = cv2.putText(img_draw, df_json_1_label_8['class_name3'].iloc[i][-1:], start3_1, cv2.FONT_ITALIC, 1, (0,0,255))\n",
        "\n",
        "  start4 = (df_json_1_label_8[12].iloc[i].astype(int), df_json_1_label_8[13].iloc[i].astype(int))\n",
        "  start4_1 = (df_json_1_label_8[12].iloc[i].astype(int), df_json_1_label_8[13].iloc[i].astype(int)-10)\n",
        "  end4 = (df_json_1_label_8[14].iloc[i].astype(int), df_json_1_label_8[15].iloc[i].astype(int))\n",
        "  img_draw = cv2.rectangle(img_draw, start4, end4, (0,0,255), 2)\n",
        "  img_draw = cv2.putText(img_draw, df_json_1_label_8['class_name4'].iloc[i][-1:], start4_1, cv2.FONT_ITALIC, 1, (0,0,255))\n",
        "\n",
        "  start5 = (df_json_1_label_8[16].iloc[i].astype(int), df_json_1_label_8[17].iloc[i].astype(int))\n",
        "  start5_1 = (df_json_1_label_8[16].iloc[i].astype(int), df_json_1_label_8[17].iloc[i].astype(int)-10)\n",
        "  end5 = (df_json_1_label_8[18].iloc[i].astype(int), df_json_1_label_8[19].iloc[i].astype(int))\n",
        "  img_draw = cv2.rectangle(img_draw, start5, end5, (0,0,255), 2)\n",
        "  img_draw = cv2.putText(img_draw, df_json_1_label_8['class_name5'].iloc[i][-1:], start5_1, cv2.FONT_ITALIC, 1, (0,0,255))\n",
        "\n",
        "  start6 = (df_json_1_label_8[20].iloc[i].astype(int), df_json_1_label_8[21].iloc[i].astype(int))\n",
        "  start6_1 = (df_json_1_label_8[20].iloc[i].astype(int), df_json_1_label_8[21].iloc[i].astype(int)-10)\n",
        "  end6 = (df_json_1_label_8[22].iloc[i].astype(int), df_json_1_label_8[23].iloc[i].astype(int))\n",
        "  img_draw = cv2.rectangle(img_draw, start6, end6, (0,0,255), 2)\n",
        "  img_draw = cv2.putText(img_draw, df_json_1_label_8['class_name6'].iloc[i][-1:], start6_1, cv2.FONT_ITALIC, 1, (0,0,255))\n",
        "\n",
        "  start7 = (df_json_1_label_8[24].iloc[i].astype(int), df_json_1_label_8[25].iloc[i].astype(int))\n",
        "  start7_1 = (df_json_1_label_8[24].iloc[i].astype(int), df_json_1_label_8[25].iloc[i].astype(int)-10)\n",
        "  end7 = (df_json_1_label_8[26].iloc[i].astype(int), df_json_1_label_8[27].iloc[i].astype(int))\n",
        "  img_draw = cv2.rectangle(img_draw, start7, end7, (0,0,255), 2)\n",
        "  img_draw = cv2.putText(img_draw, df_json_1_label_8['class_name7'].iloc[i][-1:], start7_1, cv2.FONT_ITALIC, 1, (0,0,255))\n",
        "\n",
        "  start8 = (df_json_1_label_8[28].iloc[i].astype(int), df_json_1_label_8[29].iloc[i].astype(int))\n",
        "  start8_1 = (df_json_1_label_8[28].iloc[i].astype(int), df_json_1_label_8[29].iloc[i].astype(int)-10)\n",
        "  end8 = (df_json_1_label_8[30].iloc[i].astype(int), df_json_1_label_8[31].iloc[i].astype(int))\n",
        "  img_draw = cv2.rectangle(img_draw, start8, end8, (0,0,255), 2)\n",
        "  img_draw = cv2.putText(img_draw, df_json_1_label_8['class_name8'].iloc[i][-1:], start8_1, cv2.FONT_ITALIC, 1, (0,0,255))\n",
        "\n",
        "  plt.figure(figsize=(20,20))\n",
        "  plt.subplot(121), plt.imshow(cv2.cvtColor(img, cv2.COLOR_BGR2RGB)), plt.title('Original')\n",
        "  plt.subplot(122), plt.imshow(cv2.cvtColor(img_draw, cv2.COLOR_BGR2RGB)), plt.title(df_json_1_label_8['image_name'].iloc[i])\n",
        "  plt.show()"
      ],
      "execution_count": 63,
      "outputs": []
    },
    {
      "cell_type": "markdown",
      "metadata": {
        "id": "LOmvzaIL5pFs"
      },
      "source": [
        "## 패턴2"
      ]
    },
    {
      "cell_type": "code",
      "metadata": {
        "colab": {
          "base_uri": "https://localhost:8080/"
        },
        "id": "jPNy2L1n5ylP",
        "outputId": "772a80c3-4908-42eb-e403-d1f8f7a908a5"
      },
      "source": [
        "%cd /content/drive/MyDrive/semiconductor/vision_data/pattern_2"
      ],
      "execution_count": null,
      "outputs": [
        {
          "output_type": "stream",
          "name": "stdout",
          "text": [
            "/content/drive/MyDrive/semiconductor/vision_data/pattern_2\n"
          ]
        }
      ]
    },
    {
      "cell_type": "code",
      "metadata": {
        "id": "cjSQ_bmY3sS4"
      },
      "source": [
        "# df_json_2_label_1\n",
        "\n",
        "for i in range(len(df_json_2_label_1)):\n",
        "  img = cv2.imread(df_json_2_label_1['image_name'].iloc[i])\n",
        "  img_draw = cv2.imread(df_json_2_label_1['image_name'].iloc[i])\n",
        "  start1 = (df_json_2_label_1[0].iloc[i].astype(int), df_json_2_label_1[1].iloc[i].astype(int))\n",
        "  start1_1 = (df_json_2_label_1[0].iloc[i].astype(int), df_json_2_label_1[1].iloc[i].astype(int)-10)\n",
        "  end1 = (df_json_2_label_1[2].iloc[i].astype(int), df_json_2_label_1[3].iloc[i].astype(int))\n",
        "\n",
        "  img_draw = cv2.rectangle(img_draw, start1, end1, (0,0,255), 2)\n",
        "  img_draw = cv2.putText(img_draw, df_json_2_label_1['class_name1'].iloc[i][-1:], start1_1, cv2.FONT_ITALIC, 1, (0,0,255))\n",
        "  plt.figure(figsize=(20,20))\n",
        "\n",
        "  plt.subplot(121), plt.imshow(cv2.cvtColor(img, cv2.COLOR_BGR2RGB)), plt.title('Original')\n",
        "  plt.subplot(122), plt.imshow(cv2.cvtColor(img_draw, cv2.COLOR_BGR2RGB)), plt.title(df_json_2_label_1['image_name'].iloc[i])\n",
        "  plt.show()"
      ],
      "execution_count": 64,
      "outputs": []
    },
    {
      "cell_type": "code",
      "metadata": {
        "id": "ezxVybBG4Q3x"
      },
      "source": [
        "# df_json_2_label_2\n",
        "\n",
        "for i in range(len(df_json_2_label_2)):\n",
        "  img = cv2.imread(df_json_2_label_2['image_name'].iloc[i])\n",
        "  img_draw = img.copy()\n",
        "  start1 = (df_json_2_label_2[0].iloc[i].astype(int), df_json_2_label_2[1].iloc[i].astype(int))\n",
        "  start1_1 = (df_json_2_label_2[0].iloc[i].astype(int), df_json_2_label_2[1].iloc[i].astype(int)-10)\n",
        "  end1 = (df_json_2_label_2[2].iloc[i].astype(int), df_json_2_label_2[3].iloc[i].astype(int))\n",
        "  img_draw = cv2.rectangle(img_draw, start1, end1, (0,0,255), 2)\n",
        "  img_draw = cv2.putText(img_draw, df_json_2_label_2['class_name1'].iloc[i][-1:], start1_1, cv2.FONT_ITALIC, 1, (0,0,255))\n",
        "\n",
        "  start2 = (df_json_2_label_2[4].iloc[i].astype(int), df_json_2_label_2[5].iloc[i].astype(int))\n",
        "  start2_1 = (df_json_2_label_2[4].iloc[i].astype(int), df_json_2_label_2[5].iloc[i].astype(int)-10)\n",
        "  end2 = (df_json_2_label_2[6].iloc[i].astype(int), df_json_2_label_2[7].iloc[i].astype(int))\n",
        "  img_draw = cv2.rectangle(img_draw, start2, end2, (0,0,255), 2)\n",
        "  img_draw = cv2.putText(img_draw, df_json_2_label_2['class_name2'].iloc[i][-1:], start2_1, cv2.FONT_ITALIC, 1, (0,0,255))\n",
        "\n",
        "  plt.figure(figsize=(20,20))\n",
        "  plt.subplot(121), plt.imshow(cv2.cvtColor(img, cv2.COLOR_BGR2RGB)), plt.title('Original')\n",
        "  plt.subplot(122), plt.imshow(cv2.cvtColor(img_draw, cv2.COLOR_BGR2RGB)), plt.title(df_json_2_label_2['image_name'].iloc[i])\n",
        "  plt.show()"
      ],
      "execution_count": 65,
      "outputs": []
    },
    {
      "cell_type": "code",
      "metadata": {
        "id": "lirc8j1o48Rs"
      },
      "source": [
        "# df_json_2_label_3\n",
        "\n",
        "for i in range(len(df_json_2_label_3)):\n",
        "  img = cv2.imread(df_json_2_label_3['image_name'].iloc[i])\n",
        "  img_draw = img.copy()\n",
        "  start1 = (df_json_2_label_3[0].iloc[i].astype(int), df_json_2_label_3[1].iloc[i].astype(int))\n",
        "  start1_1 = (df_json_2_label_3[0].iloc[i].astype(int), df_json_2_label_3[1].iloc[i].astype(int)-10)\n",
        "  end1 = (df_json_2_label_3[2].iloc[i].astype(int), df_json_2_label_3[3].iloc[i].astype(int))\n",
        "  img_draw = cv2.rectangle(img_draw, start1, end1, (0,0,255), 2)\n",
        "  img_draw = cv2.putText(img_draw, df_json_2_label_3['class_name1'].iloc[i][-1:], start1_1, cv2.FONT_ITALIC, 1, (0,0,255))\n",
        "\n",
        "  start2 = (df_json_2_label_3[4].iloc[i].astype(int), df_json_2_label_3[5].iloc[i].astype(int))\n",
        "  start2_1 = (df_json_2_label_3[4].iloc[i].astype(int), df_json_2_label_3[5].iloc[i].astype(int)-10)\n",
        "  end2 = (df_json_2_label_3[6].iloc[i].astype(int), df_json_2_label_3[7].iloc[i].astype(int))\n",
        "  img_draw = cv2.rectangle(img_draw, start2, end2, (0,0,255), 2)\n",
        "  img_draw = cv2.putText(img_draw, df_json_2_label_3['class_name2'].iloc[i][-1:], start2_1, cv2.FONT_ITALIC, 1, (0,0,255))\n",
        "\n",
        "  start3 = (df_json_2_label_3[8].iloc[i].astype(int), df_json_2_label_3[9].iloc[i].astype(int))\n",
        "  start3_1 = (df_json_2_label_3[8].iloc[i].astype(int), df_json_2_label_3[9].iloc[i].astype(int)-10)\n",
        "  end3 = (df_json_2_label_3[10].iloc[i].astype(int), df_json_2_label_3[11].iloc[i].astype(int))\n",
        "  img_draw = cv2.rectangle(img_draw, start3, end3, (0,0,255), 2)\n",
        "  img_draw = cv2.putText(img_draw, df_json_2_label_3['class_name3'].iloc[i][-1:], start3_1, cv2.FONT_ITALIC, 1, (0,0,255))\n",
        "\n",
        "  plt.figure(figsize=(20,20))\n",
        "  plt.subplot(121), plt.imshow(cv2.cvtColor(img, cv2.COLOR_BGR2RGB)), plt.title('Original')\n",
        "  plt.subplot(122), plt.imshow(cv2.cvtColor(img_draw, cv2.COLOR_BGR2RGB)), plt.title(df_json_2_label_3['image_name'].iloc[i])\n",
        "  plt.show()"
      ],
      "execution_count": 66,
      "outputs": []
    },
    {
      "cell_type": "code",
      "metadata": {
        "id": "3MtilpoF5fld"
      },
      "source": [
        "# df_json_2_label_4\n",
        "\n",
        "for i in range(len(df_json_2_label_4)):\n",
        "  img = cv2.imread(df_json_2_label_4['image_name'].iloc[i])\n",
        "  img_draw = img.copy()\n",
        "  start1 = (df_json_2_label_4[0].iloc[i].astype(int), df_json_2_label_4[1].iloc[i].astype(int))\n",
        "  start1_1 = (df_json_2_label_4[0].iloc[i].astype(int), df_json_2_label_4[1].iloc[i].astype(int)-10)\n",
        "  end1 = (df_json_2_label_4[2].iloc[i].astype(int), df_json_2_label_4[3].iloc[i].astype(int))\n",
        "  img_draw = cv2.rectangle(img_draw, start1, end1, (0,0,255), 2)\n",
        "  img_draw = cv2.putText(img_draw, df_json_2_label_4['class_name1'].iloc[i][-1:], start1_1, cv2.FONT_ITALIC, 1, (0,0,255))\n",
        "\n",
        "  start2 = (df_json_2_label_4[4].iloc[i].astype(int), df_json_2_label_4[5].iloc[i].astype(int))\n",
        "  start2_1 = (df_json_2_label_4[4].iloc[i].astype(int), df_json_2_label_4[5].iloc[i].astype(int)-10)\n",
        "  end2 = (df_json_2_label_4[6].iloc[i].astype(int), df_json_2_label_4[7].iloc[i].astype(int))\n",
        "  img_draw = cv2.rectangle(img_draw, start2, end2, (0,0,255), 2)\n",
        "  img_draw = cv2.putText(img_draw, df_json_2_label_4['class_name2'].iloc[i][-1:], start2_1, cv2.FONT_ITALIC, 1, (0,0,255))\n",
        "\n",
        "  start3 = (df_json_2_label_4[8].iloc[i].astype(int), df_json_2_label_4[9].iloc[i].astype(int))\n",
        "  start3_1 = (df_json_2_label_4[8].iloc[i].astype(int), df_json_2_label_4[9].iloc[i].astype(int)-10)\n",
        "  end3 = (df_json_2_label_4[10].iloc[i].astype(int), df_json_2_label_4[11].iloc[i].astype(int))\n",
        "  img_draw = cv2.rectangle(img_draw, start3, end3, (0,0,255), 2)\n",
        "  img_draw = cv2.putText(img_draw, df_json_2_label_4['class_name3'].iloc[i][-1:], start3_1, cv2.FONT_ITALIC, 1, (0,0,255))\n",
        "\n",
        "  start4 = (df_json_2_label_4[12].iloc[i].astype(int), df_json_2_label_4[13].iloc[i].astype(int))\n",
        "  start4_1 = (df_json_2_label_4[12].iloc[i].astype(int), df_json_2_label_4[13].iloc[i].astype(int)-10)\n",
        "  end4 = (df_json_2_label_4[14].iloc[i].astype(int), df_json_2_label_4[15].iloc[i].astype(int))\n",
        "  img_draw = cv2.rectangle(img_draw, start4, end4, (0,0,255), 2)\n",
        "  img_draw = cv2.putText(img_draw, df_json_2_label_4['class_name4'].iloc[i][-1:], start4_1, cv2.FONT_ITALIC, 1, (0,0,255))\n",
        "\n",
        "  plt.figure(figsize=(20,20))\n",
        "  plt.subplot(121), plt.imshow(cv2.cvtColor(img, cv2.COLOR_BGR2RGB)), plt.title('Original')\n",
        "  plt.subplot(122), plt.imshow(cv2.cvtColor(img_draw, cv2.COLOR_BGR2RGB)), plt.title(df_json_2_label_4['image_name'].iloc[i])\n",
        "  plt.show()"
      ],
      "execution_count": 67,
      "outputs": []
    },
    {
      "cell_type": "code",
      "metadata": {
        "id": "A2EOH0zU550r"
      },
      "source": [
        "# df_json_2_label_5\n",
        "\n",
        "for i in range(len(df_json_2_label_5)):\n",
        "  img = cv2.imread(df_json_2_label_5['image_name'].iloc[i])\n",
        "  img_draw = img.copy()\n",
        "  start1 = (df_json_2_label_5[0].iloc[i].astype(int), df_json_2_label_5[1].iloc[i].astype(int))\n",
        "  start1_1 = (df_json_2_label_5[0].iloc[i].astype(int), df_json_2_label_5[1].iloc[i].astype(int)-10)\n",
        "  end1 = (df_json_2_label_5[2].iloc[i].astype(int), df_json_2_label_5[3].iloc[i].astype(int))\n",
        "  img_draw = cv2.rectangle(img_draw, start1, end1, (0,0,255), 2)\n",
        "  img_draw = cv2.putText(img_draw, df_json_2_label_5['class_name1'].iloc[i][-1:], start1_1, cv2.FONT_ITALIC, 1, (0,0,255))\n",
        "\n",
        "  start2 = (df_json_2_label_5[4].iloc[i].astype(int), df_json_2_label_5[5].iloc[i].astype(int))\n",
        "  start2_1 = (df_json_2_label_5[4].iloc[i].astype(int), df_json_2_label_5[5].iloc[i].astype(int)-10)\n",
        "  end2 = (df_json_2_label_5[6].iloc[i].astype(int), df_json_2_label_5[7].iloc[i].astype(int))\n",
        "  img_draw = cv2.rectangle(img_draw, start2, end2, (0,0,255), 2)\n",
        "  img_draw = cv2.putText(img_draw, df_json_2_label_5['class_name2'].iloc[i][-1:], start2_1, cv2.FONT_ITALIC, 1, (0,0,255))\n",
        "\n",
        "  start3 = (df_json_2_label_5[8].iloc[i].astype(int), df_json_2_label_5[9].iloc[i].astype(int))\n",
        "  start3_1 = (df_json_2_label_5[8].iloc[i].astype(int), df_json_2_label_5[9].iloc[i].astype(int)-10)\n",
        "  end3 = (df_json_2_label_5[10].iloc[i].astype(int), df_json_2_label_5[11].iloc[i].astype(int))\n",
        "  img_draw = cv2.rectangle(img_draw, start3, end3, (0,0,255), 2)\n",
        "  img_draw = cv2.putText(img_draw, df_json_2_label_5['class_name3'].iloc[i][-1:], start3_1, cv2.FONT_ITALIC, 1, (0,0,255))\n",
        "\n",
        "\n",
        "  start4 = (df_json_2_label_5[12].iloc[i].astype(int), df_json_2_label_5[13].iloc[i].astype(int))\n",
        "  start4_1 = (df_json_2_label_5[12].iloc[i].astype(int), df_json_2_label_5[13].iloc[i].astype(int)-10)\n",
        "  end4 = (df_json_2_label_5[14].iloc[i].astype(int), df_json_2_label_5[15].iloc[i].astype(int))\n",
        "  img_draw = cv2.rectangle(img_draw, start4, end4, (0,0,255), 2)\n",
        "  img_draw = cv2.putText(img_draw, df_json_2_label_5['class_name4'].iloc[i][-1:], start4_1, cv2.FONT_ITALIC, 1, (0,0,255))\n",
        "\n",
        "  start5 = (df_json_2_label_5[16].iloc[i].astype(int), df_json_2_label_5[17].iloc[i].astype(int))\n",
        "  start5_1 = (df_json_2_label_5[16].iloc[i].astype(int), df_json_2_label_5[17].iloc[i].astype(int)-10)\n",
        "  end5 = (df_json_2_label_5[18].iloc[i].astype(int), df_json_2_label_5[19].iloc[i].astype(int))\n",
        "  img_draw = cv2.rectangle(img_draw, start5, end5, (0,0,255), 2)\n",
        "  img_draw = cv2.putText(img_draw, df_json_2_label_5['class_name5'].iloc[i][-1:], start5_1, cv2.FONT_ITALIC, 1, (0,0,255))\n",
        "\n",
        "  plt.figure(figsize=(20,20))\n",
        "  plt.subplot(121), plt.imshow(cv2.cvtColor(img, cv2.COLOR_BGR2RGB)), plt.title('Original')\n",
        "  plt.subplot(122), plt.imshow(cv2.cvtColor(img_draw, cv2.COLOR_BGR2RGB)), plt.title(df_json_2_label_5['image_name'].iloc[i])\n",
        "  plt.show()"
      ],
      "execution_count": 68,
      "outputs": []
    },
    {
      "cell_type": "code",
      "metadata": {
        "id": "28qblhbW6ac0"
      },
      "source": [
        "# df_json_2_label_6\n",
        "\n",
        "for i in range(len(df_json_2_label_6)):\n",
        "  img = cv2.imread(df_json_2_label_6['image_name'].iloc[i])\n",
        "  img_draw = img.copy()\n",
        "  start1 = (df_json_2_label_6[0].iloc[i].astype(int), df_json_2_label_6[1].iloc[i].astype(int))\n",
        "  start1_1 = (df_json_2_label_6[0].iloc[i].astype(int), df_json_2_label_6[1].iloc[i].astype(int)-10)\n",
        "  end1 = (df_json_2_label_6[2].iloc[i].astype(int), df_json_2_label_6[3].iloc[i].astype(int))\n",
        "  img_draw = cv2.rectangle(img_draw, start1, end1, (0,0,255), 2)\n",
        "  img_draw = cv2.putText(img_draw, df_json_2_label_6['class_name1'].iloc[i][-1:], start1_1, cv2.FONT_ITALIC, 1, (0,0,255))\n",
        "\n",
        "  start2 = (df_json_2_label_6[4].iloc[i].astype(int), df_json_2_label_6[5].iloc[i].astype(int))\n",
        "  start2_1 = (df_json_2_label_6[4].iloc[i].astype(int), df_json_2_label_6[5].iloc[i].astype(int)-10)\n",
        "  end2 = (df_json_2_label_6[6].iloc[i].astype(int), df_json_2_label_6[7].iloc[i].astype(int))\n",
        "  img_draw = cv2.rectangle(img_draw, start2, end2, (0,0,255), 2)\n",
        "  img_draw = cv2.putText(img_draw, df_json_2_label_6['class_name2'].iloc[i][-1:], start2_1, cv2.FONT_ITALIC, 1, (0,0,255))\n",
        "\n",
        "  start3 = (df_json_2_label_6[8].iloc[i].astype(int), df_json_2_label_6[9].iloc[i].astype(int))\n",
        "  start3_1 = (df_json_2_label_6[8].iloc[i].astype(int), df_json_2_label_6[9].iloc[i].astype(int)-10)\n",
        "  end3 = (df_json_2_label_6[10].iloc[i].astype(int), df_json_2_label_6[11].iloc[i].astype(int))\n",
        "  img_draw = cv2.rectangle(img_draw, start3, end3, (0,0,255), 2)\n",
        "  img_draw = cv2.putText(img_draw, df_json_2_label_6['class_name3'].iloc[i][-1:], start3_1, cv2.FONT_ITALIC, 1, (0,0,255))\n",
        "\n",
        "  start4 = (df_json_2_label_6[12].iloc[i].astype(int), df_json_2_label_6[13].iloc[i].astype(int))\n",
        "  start4_1 = (df_json_2_label_6[12].iloc[i].astype(int), df_json_2_label_6[13].iloc[i].astype(int)-10)\n",
        "  end4 = (df_json_2_label_6[14].iloc[i].astype(int), df_json_2_label_6[15].iloc[i].astype(int))\n",
        "  img_draw = cv2.rectangle(img_draw, start4, end4, (0,0,255), 2)\n",
        "  img_draw = cv2.putText(img_draw, df_json_2_label_6['class_name4'].iloc[i][-1:], start4_1, cv2.FONT_ITALIC, 1, (0,0,255))\n",
        "\n",
        "  start5 = (df_json_2_label_6[16].iloc[i].astype(int), df_json_2_label_6[17].iloc[i].astype(int))\n",
        "  start5_1 = (df_json_2_label_6[16].iloc[i].astype(int), df_json_2_label_6[17].iloc[i].astype(int)-10)\n",
        "  end5 = (df_json_2_label_6[18].iloc[i].astype(int), df_json_2_label_6[19].iloc[i].astype(int))\n",
        "  img_draw = cv2.rectangle(img_draw, start5, end5, (0,0,255), 2)\n",
        "  img_draw = cv2.putText(img_draw, df_json_2_label_6['class_name5'].iloc[i][-1:], start5_1, cv2.FONT_ITALIC, 1, (0,0,255))\n",
        "\n",
        "  start6 = (df_json_2_label_6[20].iloc[i].astype(int), df_json_2_label_6[21].iloc[i].astype(int))\n",
        "  start6_1 = (df_json_2_label_6[20].iloc[i].astype(int), df_json_2_label_6[21].iloc[i].astype(int)-10)\n",
        "  end6 = (df_json_2_label_6[22].iloc[i].astype(int), df_json_2_label_6[23].iloc[i].astype(int))\n",
        "  img_draw = cv2.rectangle(img_draw, start6, end6, (0,0,255), 2)\n",
        "  img_draw = cv2.putText(img_draw, df_json_2_label_6['class_name6'].iloc[i][-1:], start6_1, cv2.FONT_ITALIC, 1, (0,0,255))\n",
        "\n",
        "  plt.figure(figsize=(20,20))\n",
        "  plt.subplot(121), plt.imshow(cv2.cvtColor(img, cv2.COLOR_BGR2RGB)), plt.title('Original')\n",
        "  plt.subplot(122), plt.imshow(cv2.cvtColor(img_draw, cv2.COLOR_BGR2RGB)), plt.title(df_json_2_label_6['image_name'].iloc[i])\n",
        "  plt.show()"
      ],
      "execution_count": 69,
      "outputs": []
    },
    {
      "cell_type": "code",
      "metadata": {
        "id": "XdR_Mje061dP"
      },
      "source": [
        "# df_json_2_label_7\n",
        "\n",
        "for i in range(len(df_json_2_label_7)):\n",
        "  img = cv2.imread(df_json_2_label_7['image_name'].iloc[i])\n",
        "  img_draw = img.copy()\n",
        "  start1 = (df_json_2_label_7[0].iloc[i].astype(int), df_json_2_label_7[1].iloc[i].astype(int))\n",
        "  start1_1 = (df_json_2_label_7[0].iloc[i].astype(int), df_json_2_label_7[1].iloc[i].astype(int)-10)\n",
        "  end1 = (df_json_2_label_7[2].iloc[i].astype(int), df_json_2_label_7[3].iloc[i].astype(int))\n",
        "  img_draw = cv2.rectangle(img_draw, start1, end1, (0,0,255), 2)\n",
        "  img_draw = cv2.putText(img_draw, df_json_2_label_7['class_name1'].iloc[i][-1:], start1_1, cv2.FONT_ITALIC, 1, (0,0,255))\n",
        "\n",
        "  start2 = (df_json_2_label_7[4].iloc[i].astype(int), df_json_2_label_7[5].iloc[i].astype(int))\n",
        "  start2_1 = (df_json_2_label_7[4].iloc[i].astype(int), df_json_2_label_7[5].iloc[i].astype(int)-10)\n",
        "  end2 = (df_json_2_label_7[6].iloc[i].astype(int), df_json_2_label_7[7].iloc[i].astype(int))\n",
        "  img_draw = cv2.rectangle(img_draw, start2, end2, (0,0,255), 2)\n",
        "  img_draw = cv2.putText(img_draw, df_json_2_label_7['class_name2'].iloc[i][-1:], start2_1, cv2.FONT_ITALIC, 1, (0,0,255))\n",
        "\n",
        "  start3 = (df_json_2_label_7[8].iloc[i].astype(int), df_json_2_label_7[9].iloc[i].astype(int))\n",
        "  start3_1 = (df_json_2_label_7[8].iloc[i].astype(int), df_json_2_label_7[9].iloc[i].astype(int)-10)\n",
        "  end3 = (df_json_2_label_7[10].iloc[i].astype(int), df_json_2_label_7[11].iloc[i].astype(int))\n",
        "  img_draw = cv2.rectangle(img_draw, start3, end3, (0,0,255), 2)\n",
        "  img_draw = cv2.putText(img_draw, df_json_2_label_7['class_name3'].iloc[i][-1:], start3_1, cv2.FONT_ITALIC, 1, (0,0,255))\n",
        "\n",
        "  start4 = (df_json_2_label_7[12].iloc[i].astype(int), df_json_2_label_7[13].iloc[i].astype(int))\n",
        "  start4_1 = (df_json_2_label_7[12].iloc[i].astype(int), df_json_2_label_7[13].iloc[i].astype(int)-10)\n",
        "  end4 = (df_json_2_label_7[14].iloc[i].astype(int), df_json_2_label_7[15].iloc[i].astype(int))\n",
        "  img_draw = cv2.rectangle(img_draw, start4, end4, (0,0,255), 2)\n",
        "  img_draw = cv2.putText(img_draw, df_json_2_label_7['class_name4'].iloc[i][-1:], start4_1, cv2.FONT_ITALIC, 1, (0,0,255))\n",
        "\n",
        "  start5 = (df_json_2_label_7[16].iloc[i].astype(int), df_json_2_label_7[17].iloc[i].astype(int))\n",
        "  start5_1 = (df_json_2_label_7[16].iloc[i].astype(int), df_json_2_label_7[17].iloc[i].astype(int)-10)\n",
        "  end5 = (df_json_2_label_7[18].iloc[i].astype(int), df_json_2_label_7[19].iloc[i].astype(int))\n",
        "  img_draw = cv2.rectangle(img_draw, start5, end5, (0,0,255), 2)\n",
        "  img_draw = cv2.putText(img_draw, df_json_2_label_7['class_name5'].iloc[i][-1:], start5_1, cv2.FONT_ITALIC, 1, (0,0,255))\n",
        "\n",
        "  start6 = (df_json_2_label_7[20].iloc[i].astype(int), df_json_2_label_7[21].iloc[i].astype(int))\n",
        "  start6_1 = (df_json_2_label_7[20].iloc[i].astype(int), df_json_2_label_7[21].iloc[i].astype(int)-10)\n",
        "  end6 = (df_json_2_label_7[22].iloc[i].astype(int), df_json_2_label_7[23].iloc[i].astype(int))\n",
        "  img_draw = cv2.rectangle(img_draw, start6, end6, (0,0,255), 2)\n",
        "  img_draw = cv2.putText(img_draw, df_json_2_label_7['class_name6'].iloc[i][-1:], start6_1, cv2.FONT_ITALIC, 1, (0,0,255))\n",
        "\n",
        "  start7 = (df_json_2_label_7[24].iloc[i].astype(int), df_json_2_label_7[25].iloc[i].astype(int))\n",
        "  start7_1 = (df_json_2_label_7[24].iloc[i].astype(int), df_json_2_label_7[25].iloc[i].astype(int)-10)\n",
        "  end7 = (df_json_2_label_7[26].iloc[i].astype(int), df_json_2_label_7[27].iloc[i].astype(int))\n",
        "  img_draw = cv2.rectangle(img_draw, start7, end7, (0,0,255), 2)\n",
        "  img_draw = cv2.putText(img_draw, df_json_2_label_7['class_name7'].iloc[i][-1:], start7_1, cv2.FONT_ITALIC, 1, (0,0,255))\n",
        "\n",
        "  plt.figure(figsize=(20,20))\n",
        "  plt.subplot(121), plt.imshow(cv2.cvtColor(img, cv2.COLOR_BGR2RGB)), plt.title('Original')\n",
        "  plt.subplot(122), plt.imshow(cv2.cvtColor(img_draw, cv2.COLOR_BGR2RGB)), plt.title(df_json_2_label_7['image_name'].iloc[i])\n",
        "  plt.show()"
      ],
      "execution_count": 70,
      "outputs": []
    },
    {
      "cell_type": "code",
      "source": [
        "# df_json_2_label_8\n",
        "\n",
        "for i in range(len(df_json_2_label_8)):\n",
        "  img = cv2.imread(df_json_2_label_8['image_name'].iloc[i])\n",
        "  img_draw = img.copy()\n",
        "  start1 = (df_json_2_label_8[0].iloc[i].astype(int), df_json_2_label_8[1].iloc[i].astype(int))\n",
        "  start1_1 = (df_json_2_label_8[0].iloc[i].astype(int), df_json_2_label_8[1].iloc[i].astype(int)-10)\n",
        "  end1 = (df_json_2_label_8[2].iloc[i].astype(int), df_json_2_label_8[3].iloc[i].astype(int))\n",
        "  img_draw = cv2.rectangle(img_draw, start1, end1, (0,0,255), 2)\n",
        "  img_draw = cv2.putText(img_draw, df_json_2_label_8['class_name1'].iloc[i][-1:], start1_1, cv2.FONT_ITALIC, 1, (0,0,255))\n",
        "\n",
        "  start2 = (df_json_2_label_8[4].iloc[i].astype(int), df_json_2_label_8[5].iloc[i].astype(int))\n",
        "  start2_1 = (df_json_2_label_8[4].iloc[i].astype(int), df_json_2_label_8[5].iloc[i].astype(int)-10)\n",
        "  end2 = (df_json_2_label_8[6].iloc[i].astype(int), df_json_2_label_8[7].iloc[i].astype(int))\n",
        "  img_draw = cv2.rectangle(img_draw, start2, end2, (0,0,255), 2)\n",
        "  img_draw = cv2.putText(img_draw, df_json_2_label_8['class_name2'].iloc[i][-1:], start2_1, cv2.FONT_ITALIC, 1, (0,0,255))\n",
        "\n",
        "  start3 = (df_json_2_label_8[8].iloc[i].astype(int), df_json_2_label_8[9].iloc[i].astype(int))\n",
        "  start3_1 = (df_json_2_label_8[8].iloc[i].astype(int), df_json_2_label_8[9].iloc[i].astype(int)-10)\n",
        "  end3 = (df_json_2_label_8[10].iloc[i].astype(int), df_json_2_label_8[11].iloc[i].astype(int))\n",
        "  img_draw = cv2.rectangle(img_draw, start3, end3, (0,0,255), 2)\n",
        "  img_draw = cv2.putText(img_draw, df_json_2_label_8['class_name3'].iloc[i][-1:], start3_1, cv2.FONT_ITALIC, 1, (0,0,255))\n",
        "\n",
        "  start4 = (df_json_2_label_8[12].iloc[i].astype(int), df_json_2_label_8[13].iloc[i].astype(int))\n",
        "  start4_1 = (df_json_2_label_8[12].iloc[i].astype(int), df_json_2_label_8[13].iloc[i].astype(int)-10)\n",
        "  end4 = (df_json_2_label_8[14].iloc[i].astype(int), df_json_2_label_8[15].iloc[i].astype(int))\n",
        "  img_draw = cv2.rectangle(img_draw, start4, end4, (0,0,255), 2)\n",
        "  img_draw = cv2.putText(img_draw, df_json_2_label_8['class_name4'].iloc[i][-1:], start4_1, cv2.FONT_ITALIC, 1, (0,0,255))\n",
        "\n",
        "  start5 = (df_json_2_label_8[16].iloc[i].astype(int), df_json_2_label_8[17].iloc[i].astype(int))\n",
        "  start5_1 = (df_json_2_label_8[16].iloc[i].astype(int), df_json_2_label_8[17].iloc[i].astype(int)-10)\n",
        "  end5 = (df_json_2_label_8[18].iloc[i].astype(int), df_json_2_label_8[19].iloc[i].astype(int))\n",
        "  img_draw = cv2.rectangle(img_draw, start5, end5, (0,0,255), 2)\n",
        "  img_draw = cv2.putText(img_draw, df_json_2_label_8['class_name5'].iloc[i][-1:], start5_1, cv2.FONT_ITALIC, 1, (0,0,255))\n",
        "\n",
        "  start6 = (df_json_2_label_8[20].iloc[i].astype(int), df_json_2_label_8[21].iloc[i].astype(int))\n",
        "  start6_1 = (df_json_2_label_8[20].iloc[i].astype(int), df_json_2_label_8[21].iloc[i].astype(int)-10)\n",
        "  end6 = (df_json_2_label_8[22].iloc[i].astype(int), df_json_2_label_8[23].iloc[i].astype(int))\n",
        "  img_draw = cv2.rectangle(img_draw, start6, end6, (0,0,255), 2)\n",
        "  img_draw = cv2.putText(img_draw, df_json_2_label_8['class_name6'].iloc[i][-1:], start6_1, cv2.FONT_ITALIC, 1, (0,0,255))\n",
        "\n",
        "  start7 = (df_json_2_label_8[24].iloc[i].astype(int), df_json_2_label_8[25].iloc[i].astype(int))\n",
        "  start7_1 = (df_json_2_label_8[24].iloc[i].astype(int), df_json_2_label_8[25].iloc[i].astype(int)-10)\n",
        "  end7 = (df_json_2_label_8[26].iloc[i].astype(int), df_json_2_label_8[27].iloc[i].astype(int))\n",
        "  img_draw = cv2.rectangle(img_draw, start7, end7, (0,0,255), 2)\n",
        "  img_draw = cv2.putText(img_draw, df_json_2_label_8['class_name7'].iloc[i][-1:], start7_1, cv2.FONT_ITALIC, 1, (0,0,255))\n",
        "\n",
        "  start8 = (df_json_2_label_8[28].iloc[i].astype(int), df_json_2_label_8[29].iloc[i].astype(int))\n",
        "  start8_1 = (df_json_2_label_8[28].iloc[i].astype(int), df_json_2_label_8[29].iloc[i].astype(int)-10)\n",
        "  end8 = (df_json_2_label_8[30].iloc[i].astype(int), df_json_2_label_8[31].iloc[i].astype(int))\n",
        "  img_draw = cv2.rectangle(img_draw, start8, end8, (0,0,255), 2)\n",
        "  img_draw = cv2.putText(img_draw, df_json_2_label_8['class_name8'].iloc[i][-1:], start8_1, cv2.FONT_ITALIC, 1, (0,0,255))\n",
        "\n",
        "  plt.figure(figsize=(20,20))\n",
        "  plt.subplot(121), plt.imshow(cv2.cvtColor(img, cv2.COLOR_BGR2RGB)), plt.title('Original')\n",
        "  plt.subplot(122), plt.imshow(cv2.cvtColor(img_draw, cv2.COLOR_BGR2RGB)), plt.title(df_json_2_label_8['image_name'].iloc[i])\n",
        "  plt.show()"
      ],
      "metadata": {
        "id": "lSCxoTYYDDRk"
      },
      "execution_count": null,
      "outputs": []
    }
  ]
}